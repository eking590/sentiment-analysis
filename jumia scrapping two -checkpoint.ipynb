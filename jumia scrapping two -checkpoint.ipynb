{
 "cells": [
  {
   "cell_type": "code",
   "execution_count": null,
   "metadata": {},
   "outputs": [],
   "source": [
    "import requests \n",
    "from bs4 import BeautifulSoup \n",
    "\n",
    "url = 'https://www.jumia.com.ng/catalog/productratingsreviews/sku/LI287ST1FXHNCNAFAMZ/'\n",
    "soup = BeautifulSoup(r.text, 'html.parser') \n",
    "print(soup.title.text)\n",
    "\n",
    "for x in range(1,30):\n",
    "    url = 'https://www.jumia.com.ng/catalog/productratingsreviews/sku/LI287ST1FXHNCNAFAMZ/?page={x}'\n",
    "    def get_soup(url):\n",
    "        r = requests.get(url)\n",
    "        soup = BeautifulSoup(r.text, 'html parser')\n",
    "        return soup \n",
    "        locator(soup) \n",
    "\n",
    "def locator(span, attrs={}):\n",
    "    vals = soup.find_all(span, attrs)\n",
    "    return [i.text for i in vals]\n",
    "\n",
    "\n",
    "new_title = [a for a in locator('title')]\n",
    "comments = [a for a in locator('p', {'class':\"-pvs\"})]\n",
    "ratings = [a for a in locator('div', {'class':'stars _m _al -mvs'})]\n"
   ]
  },
  {
   "cell_type": "code",
   "execution_count": null,
   "metadata": {},
   "outputs": [],
   "source": [
    "data = pd.DataFrame(zip(comments, ratings), \n",
    "                    columns = [ 'comments', 'rating']) \n",
    "data"
   ]
  },
  {
   "cell_type": "code",
   "execution_count": null,
   "metadata": {},
   "outputs": [],
   "source": [
    "data.to_csv(r'C:\\Users\\eking\\Documents\\my B.sc Project\\my datasets\\Reviews.csv', index = False)"
   ]
  }
 ],
 "metadata": {
  "kernelspec": {
   "display_name": "Python 3",
   "language": "python",
   "name": "python3"
  },
  "language_info": {
   "codemirror_mode": {
    "name": "ipython",
    "version": 3
   },
   "file_extension": ".py",
   "mimetype": "text/x-python",
   "name": "python",
   "nbconvert_exporter": "python",
   "pygments_lexer": "ipython3",
   "version": "3.8.5"
  }
 },
 "nbformat": 4,
 "nbformat_minor": 4
}
