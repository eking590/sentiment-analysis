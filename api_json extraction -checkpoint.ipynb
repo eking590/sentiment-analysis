{
 "cells": [
  {
   "cell_type": "code",
   "execution_count": 19,
   "metadata": {},
   "outputs": [
    {
     "name": "stdout",
     "output_type": "stream",
     "text": [
      "Trying to get page to scrollhttps://stackoverflow.com/questions/69225573/trying-to-get-page-to-scroll\n",
      "skipped\n",
      "skipped\n",
      "Spring is trying to subclass a record component when aop is presenthttps://stackoverflow.com/questions/69221447/spring-is-trying-to-subclass-a-record-component-when-aop-is-present\n",
      "skipped\n",
      "How to combine multiple regex into single one ( Query / Filter) Reacthttps://stackoverflow.com/questions/69225581/how-to-combine-multiple-regex-into-single-one-query-filter-react\n",
      "skipped\n",
      "how to get the input values for the form I&#39;m trying to update in React for a simple blog apphttps://stackoverflow.com/questions/69223145/how-to-get-the-input-values-for-the-form-im-trying-to-update-in-react-for-a-sim\n",
      "skipped\n",
      "skipped\n",
      "Adding search to discord music bothttps://stackoverflow.com/questions/69225414/adding-search-to-discord-music-bot\n",
      "Firebase Cloud function unable to delete datahttps://stackoverflow.com/questions/69225578/firebase-cloud-function-unable-to-delete-data\n",
      "Switch Statement returning me null when using arrayhttps://stackoverflow.com/questions/69225577/switch-statement-returning-me-null-when-using-array\n",
      "How to create a multiline macro without using backshlash for line continuation?https://stackoverflow.com/questions/69225441/how-to-create-a-multiline-macro-without-using-backshlash-for-line-continuation\n",
      "skipped\n",
      "skipped\n",
      "Python readlines() function ignores line written by programhttps://stackoverflow.com/questions/69217749/python-readlines-function-ignores-line-written-by-program\n",
      "skipped\n",
      "skipped\n",
      "Class error &#39;A function body must be provided&#39;https://stackoverflow.com/questions/69225572/class-error-a-function-body-must-be-provided\n",
      "What is the macro @. from Julia, and where is the documentation?https://stackoverflow.com/questions/69225571/what-is-the-macro-from-julia-and-where-is-the-documentation\n",
      "Dialogflow handle dynamic quick replieshttps://stackoverflow.com/questions/69225570/dialogflow-handle-dynamic-quick-replies\n",
      "Google Appscipt youtube seach is not working with location parameterhttps://stackoverflow.com/questions/69225569/google-appscipt-youtube-seach-is-not-working-with-location-parameter\n",
      "skipped\n",
      "QMAKE / QT5: Platform independent copy command?https://stackoverflow.com/questions/69223717/qmake-qt5-platform-independent-copy-command\n",
      "skipped\n",
      "How to compare an user input to a text file using BufferedReaderhttps://stackoverflow.com/questions/69225453/how-to-compare-an-user-input-to-a-text-file-using-bufferedreader\n",
      "&quot;undefined reference&quot; when using OpenCV in C++https://stackoverflow.com/questions/69224065/undefined-reference-when-using-opencv-in-c\n",
      "skipped\n",
      "Best approach to copy tables from AWS PostgreSQL to Redshifthttps://stackoverflow.com/questions/69225566/best-approach-to-copy-tables-from-aws-postgresql-to-redshift\n"
     ]
    },
    {
     "ename": "OSError",
     "evalue": "[Errno 22] Invalid argument: 'C:\\\\Users\\\\eking\\\\Documents\\x07pi'",
     "output_type": "error",
     "traceback": [
      "\u001b[1;31m---------------------------------------------------------------------------\u001b[0m",
      "\u001b[1;31mOSError\u001b[0m                                   Traceback (most recent call last)",
      "\u001b[1;32m<ipython-input-19-d535e3dee6bd>\u001b[0m in \u001b[0;36m<module>\u001b[1;34m()\u001b[0m\n\u001b[0;32m     14\u001b[0m \u001b[1;33m\u001b[0m\u001b[0m\n\u001b[0;32m     15\u001b[0m \u001b[1;33m\u001b[0m\u001b[0m\n\u001b[1;32m---> 16\u001b[1;33m \u001b[1;32mwith\u001b[0m \u001b[0mopen\u001b[0m\u001b[1;33m(\u001b[0m\u001b[1;34m'C:\\\\Users\\\\eking\\\\Documents\\api'\u001b[0m\u001b[1;33m,\u001b[0m \u001b[1;34m'w'\u001b[0m\u001b[1;33m)\u001b[0m \u001b[1;32mas\u001b[0m \u001b[0mf\u001b[0m\u001b[1;33m:\u001b[0m\u001b[1;33m\u001b[0m\u001b[0m\n\u001b[0m\u001b[0;32m     17\u001b[0m     \u001b[0mjson\u001b[0m\u001b[1;33m.\u001b[0m\u001b[0mdump\u001b[0m\u001b[1;33m(\u001b[0m\u001b[0manswer_count\u001b[0m\u001b[1;33m,\u001b[0m \u001b[0mf\u001b[0m\u001b[1;33m,\u001b[0m \u001b[0mindent\u001b[0m\u001b[1;33m=\u001b[0m\u001b[1;36m4\u001b[0m\u001b[1;33m)\u001b[0m\u001b[1;33m\u001b[0m\u001b[0m\n",
      "\u001b[1;31mOSError\u001b[0m: [Errno 22] Invalid argument: 'C:\\\\Users\\\\eking\\\\Documents\\x07pi'"
     ]
    }
   ],
   "source": [
    "import requests \n",
    "import json \n",
    "\n",
    "response = requests.get('https://api.stackexchange.com/2.3/questions?order=desc&sort=activity&site=stackoverflow')\n",
    "\n",
    "for questions in response.json()['items']: \n",
    "    if questions['answer_count'] == 0: \n",
    "        #print(questions['title']) \n",
    "        #print(questions['link'])\n",
    "        answer_count = questions['title'] + questions['link'] \n",
    "        print(answer_count)\n",
    "    else: \n",
    "        print('skipped') \n",
    "\n",
    "\n",
    "with open('C:/Users\\\\eking\\\\Documents\\api', 'w') as f: \n",
    "    json.dump(answer_count, f, indent=4)"
   ]
  }
 ],
 "metadata": {
  "kernelspec": {
   "display_name": "Python 3",
   "language": "python",
   "name": "python3"
  },
  "language_info": {
   "codemirror_mode": {
    "name": "ipython",
    "version": 3
   },
   "file_extension": ".py",
   "mimetype": "text/x-python",
   "name": "python",
   "nbconvert_exporter": "python",
   "pygments_lexer": "ipython3",
   "version": "3.7.0"
  }
 },
 "nbformat": 4,
 "nbformat_minor": 2
}
