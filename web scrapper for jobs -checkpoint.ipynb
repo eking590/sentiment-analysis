{
 "cells": [
  {
   "cell_type": "code",
   "execution_count": 1,
   "metadata": {},
   "outputs": [],
   "source": [
    "import requests \n",
    "from bs4 import BeautifulSoup "
   ]
  },
  {
   "cell_type": "code",
   "execution_count": 2,
   "metadata": {},
   "outputs": [],
   "source": [
    "url = 'https://www.jumia.com.ng/catalog/productratingsreviews/sku/LI287ST1FXHNCNAFAMZ/'\n"
   ]
  },
  {
   "cell_type": "code",
   "execution_count": null,
   "metadata": {},
   "outputs": [],
   "source": []
  },
  {
   "cell_type": "code",
   "execution_count": 3,
   "metadata": {},
   "outputs": [
    {
     "name": "stdout",
     "output_type": "stream",
     "text": [
      "<!DOCTYPE html><html lang=\"en\" dir=\"ltr\"><head><meta charset=\"utf-8\" /><title>Reviews of Total 10 Sanitizer 200ml</title><meta property=\"og:type\" content=\"product\" /><meta property=\"og:site_name\" content=\"Jumia Nigeria\" /><meta property=\"og:title\" content=\"Reviews of Total 10 Sanitizer 200ml\" /><meta property=\"og:url\" content=\"/catalog/productratingsreviews/sku/LI287ST1FXHNCNAFAMZ/\" /><meta property=\"og:image\" content=\"https://ng.jumia.is/cms/jumialogonew.png\" /><meta property=\"og:locale\" content=\"en_NG\" /><meta name=\"title\" content=\"Reviews of Total 10 Sanitizer 200ml\" /><meta name=\"robots\" content=\"noindex,follow\" /><meta property=\"fb:app_id\" content=\"728795990650684\" /><meta property=\"fb:pages\" content=\"291297097615087\" /><meta name=\"google-site-verification\" content=\"4vr0StQ8YkyEzgDxkC_mgx0UMSH2xM3vkOaRpaMEjWM\" /><meta name=\"msvalidate.01\" content=\"66DCE7076C4C56245BAB83C687510491\" /><meta name=\"viewport\" content=\"width=device-width, initial-scale=1.0\" /><link rel=\"stylesheet\" href=\"https://www.jumia.com.ng/assets_he/css/main.049e8b75.css\" /><link rel=\"icon\" type=\"image/ico\" href=\"https://www.jumia.com.ng/assets_he/favicon.717283be.ico\" /><link rel=\"preconnect dns-prefetch\" href=\"//bam.nr-data.net\" /><link rel=\"preconnect dns-prefetch\" href=\"//js-agent.newrelic.com\" /><link rel=\"preconnect dns-prefetch\" href=\"//www.google-analytics.com\" /><link rel=\"preconnect dns-prefetch\" href=\"//www.googletagmanager.com\" /><link rel=\"preconnect dns-prefetch\" href=\"//www.facebook.com\" /><link rel=\"preconnect dns-prefetch\" href=\"//connect.facebook.net\" /><link rel=\"preconnect dns-prefetch\" href=\"//static.criteo.net\" /><link rel=\"preconnect dns-prefetch\" href=\"//sslwidget.criteo.com\" /><link rel=\"preconnect dns-prefetch\" href=\"//dis.eu.criteo.com\" /><link rel=\"preconnect dns-prefetch\" href=\"//creativecdn.com\" /><link rel=\"dns-prefetch\" href=\"https://ng.jumia.is\" /></head><body><script type='text/javascript' >window.NREUM||(NREUM={});NREUM.info = {\"agent\":\"\",\"beacon\":\"bam-cell.nr-data.net\",\"errorBeacon\":\"bam-cell.nr-data.net\",\"licenseKey\":\"b76de0635f\",\"applicationID\":\"202020352\",\"applicationTime\":3.045113,\"transactionName\":\"NVxXYhMHChFYVUELDQwWdkMSEgsPFmZHDQYXWkEZMwMSC1xBRkIeQml6ZTU=\",\"queueTime\":0,\"ttGuid\":\"5b57fe05ce9dd0a7\",\"agentToken\":null}; (window.NREUM||(NREUM={})).loader_config={licenseKey:\"b76de0635f\",applicationID:\"202020352\"};window.NREUM||(NREUM={}),__nr_require=function(t,e,n){function r(n){if(!e[n]){var i=e[n]={exports:{}};t[n][0].call(i.exports,function(e){var i=t[n][1][e];return r(i||e)},i,i.exports)}return e[n].exports}if(\"function\"==typeof __nr_require)return __nr_require;for(var i=0;i<n.length;i++)r(n[i]);return r}({1:[function(t,e,n){function r(){}function i(t,e,n){return function(){return o(t,[u.now()].concat(f(arguments)),e?null:this,n),e?void 0:this}}var o=t(\"handle\"),a=t(8),f=t(9),c=t(\"ee\").get(\"tracer\"),u=t(\"loader\"),s=NREUM;\"undefined\"==typeof window.newrelic&&(newrelic=s);var d=[\"setPageViewName\",\"setCustomAttribute\",\"setErrorHandler\",\"finished\",\"addToTrace\",\"inlineHit\",\"addRelease\"],p=\"api-\",l=p+\"ixn-\";a(d,function(t,e){s[e]=i(p+e,!0,\"api\")}),s.addPageAction=i(p+\"addPageAction\",!0),s.setCurrentRouteName=i(p+\"routeName\",!0),e.exports=newrelic,s.interaction=function(){return(new r).get()};var m=r.prototype={createTracer:function(t,e){var n={},r=this,i=\"function\"==typeof e;return o(l+\"tracer\",[u.now(),t,n],r),function(){if(c.emit((i?\"\":\"no-\")+\"fn-start\",[u.now(),r,i],n),i)try{return e.apply(this,arguments)}catch(t){throw c.emit(\"fn-err\",[arguments,this,t],n),t}finally{c.emit(\"fn-end\",[u.now()],n)}}}};a(\"actionText,setName,setAttribute,save,ignore,onEnd,getContext,end,get\".split(\",\"),function(t,e){m[e]=i(l+e)}),newrelic.noticeError=function(t,e){\"string\"==typeof t&&(t=new Error(t)),o(\"err\",[t,u.now(),!1,e])}},{}],2:[function(t,e,n){function r(t){if(NREUM.init){for(var e=NREUM.init,n=t.split(\".\"),r=0;r<n.length-1;r++)if(e=e[n[r]],\"object\"!=typeof e)return;return e=e[n[n.length-1]]}}e.exports={getConfiguration:r}},{}],3:[function(t,e,n){function r(){return f.exists&&performance.now?Math.round(performance.now()):(o=Math.max((new Date).getTime(),o))-a}function i(){return o}var o=(new Date).getTime(),a=o,f=t(10);e.exports=r,e.exports.offset=a,e.exports.getLastTimestamp=i},{}],4:[function(t,e,n){function r(t){return!(!t||!t.protocol||\"file:\"===t.protocol)}e.exports=r},{}],5:[function(t,e,n){function r(t,e){var n=t.getEntries();n.forEach(function(t){\"first-paint\"===t.name?d(\"timing\",[\"fp\",Math.floor(t.startTime)]):\"first-contentful-paint\"===t.name&&d(\"timing\",[\"fcp\",Math.floor(t.startTime)])})}function i(t,e){var n=t.getEntries();n.length>0&&d(\"lcp\",[n[n.length-1]])}function o(t){t.getEntries().forEach(function(t){t.hadRecentInput||d(\"cls\",[t])})}function a(t){if(t instanceof m&&!g){var e=Math.round(t.timeStamp),n={type:t.type};e<=p.now()?n.fid=p.now()-e:e>p.offset&&e<=Date.now()?(e-=p.offset,n.fid=p.now()-e):e=p.now(),g=!0,d(\"timing\",[\"fi\",e,n])}}function f(t){\"hidden\"===t&&d(\"pageHide\",[p.now()])}if(!(\"init\"in NREUM&&\"page_view_timing\"in NREUM.init&&\"enabled\"in NREUM.init.page_view_timing&&NREUM.init.page_view_timing.enabled===!1)){var c,u,s,d=t(\"handle\"),p=t(\"loader\"),l=t(7),m=NREUM.o.EV;if(\"PerformanceObserver\"in window&&\"function\"==typeof window.PerformanceObserver){c=new PerformanceObserver(r);try{c.observe({entryTypes:[\"paint\"]})}catch(v){}u=new PerformanceObserver(i);try{u.observe({entryTypes:[\"largest-contentful-paint\"]})}catch(v){}s=new PerformanceObserver(o);try{s.observe({type:\"layout-shift\",buffered:!0})}catch(v){}}if(\"addEventListener\"in document){var g=!1,h=[\"click\",\"keydown\",\"mousedown\",\"pointerdown\",\"touchstart\"];h.forEach(function(t){document.addEventListener(t,a,!1)})}l(f)}},{}],6:[function(t,e,n){function r(t,e){if(!i)return!1;if(t!==i)return!1;if(!e)return!0;if(!o)return!1;for(var n=o.split(\".\"),r=e.split(\".\"),a=0;a<r.length;a++)if(r[a]!==n[a])return!1;return!0}var i=null,o=null,a=/Version\\/(\\S+)\\s+Safari/;if(navigator.userAgent){var f=navigator.userAgent,c=f.match(a);c&&f.indexOf(\"Chrome\")===-1&&f.indexOf(\"Chromium\")===-1&&(i=\"Safari\",o=c[1])}e.exports={agent:i,version:o,match:r}},{}],7:[function(t,e,n){function r(t){function e(){t(a&&document[a]?document[a]:document[i]?\"hidden\":\"visible\")}\"addEventListener\"in document&&o&&document.addEventListener(o,e,!1)}e.exports=r;var i,o,a;\"undefined\"!=typeof document.hidden?(i=\"hidden\",o=\"visibilitychange\",a=\"visibilityState\"):\"undefined\"!=typeof document.msHidden?(i=\"msHidden\",o=\"msvisibilitychange\"):\"undefined\"!=typeof document.webkitHidden&&(i=\"webkitHidden\",o=\"webkitvisibilitychange\",a=\"webkitVisibilityState\")},{}],8:[function(t,e,n){function r(t,e){var n=[],r=\"\",o=0;for(r in t)i.call(t,r)&&(n[o]=e(r,t[r]),o+=1);return n}var i=Object.prototype.hasOwnProperty;e.exports=r},{}],9:[function(t,e,n){function r(t,e,n){e||(e=0),\"undefined\"==typeof n&&(n=t?t.length:0);for(var r=-1,i=n-e||0,o=Array(i<0?0:i);++r<i;)o[r]=t[e+r];return o}e.exports=r},{}],10:[function(t,e,n){e.exports={exists:\"undefined\"!=typeof window.performance&&window.performance.timing&&\"undefined\"!=typeof window.performance.timing.navigationStart}},{}],ee:[function(t,e,n){function r(){}function i(t){function e(t){return t&&t instanceof r?t:t?u(t,c,a):a()}function n(n,r,i,o,a){if(a!==!1&&(a=!0),!l.aborted||o){t&&a&&t(n,r,i);for(var f=e(i),c=v(n),u=c.length,s=0;s<u;s++)c[s].apply(f,r);var p=d[w[n]];return p&&p.push([b,n,r,f]),f}}function o(t,e){y[t]=v(t).concat(e)}function m(t,e){var n=y[t];if(n)for(var r=0;r<n.length;r++)n[r]===e&&n.splice(r,1)}function v(t){return y[t]||[]}function g(t){return p[t]=p[t]||i(n)}function h(t,e){l.aborted||s(t,function(t,n){e=e||\"feature\",w[n]=e,e in d||(d[e]=[])})}var y={},w={},b={on:o,addEventListener:o,removeEventListener:m,emit:n,get:g,listeners:v,context:e,buffer:h,abort:f,aborted:!1};return b}function o(t){return u(t,c,a)}function a(){return new r}function f(){(d.api||d.feature)&&(l.aborted=!0,d=l.backlog={})}var c=\"nr@context\",u=t(\"gos\"),s=t(8),d={},p={},l=e.exports=i();e.exports.getOrSetContext=o,l.backlog=d},{}],gos:[function(t,e,n){function r(t,e,n){if(i.call(t,e))return t[e];var r=n();if(Object.defineProperty&&Object.keys)try{return Object.defineProperty(t,e,{value:r,writable:!0,enumerable:!1}),r}catch(o){}return t[e]=r,r}var i=Object.prototype.hasOwnProperty;e.exports=r},{}],handle:[function(t,e,n){function r(t,e,n,r){i.buffer([t],r),i.emit(t,e,n)}var i=t(\"ee\").get(\"handle\");e.exports=r,r.ee=i},{}],id:[function(t,e,n){function r(t){var e=typeof t;return!t||\"object\"!==e&&\"function\"!==e?-1:t===window?0:a(t,o,function(){return i++})}var i=1,o=\"nr@id\",a=t(\"gos\");e.exports=r},{}],loader:[function(t,e,n){function r(){if(!R++){var t=M.info=NREUM.info,e=v.getElementsByTagName(\"script\")[0];if(setTimeout(u.abort,3e4),!(t&&t.licenseKey&&t.applicationID&&e))return u.abort();c(E,function(e,n){t[e]||(t[e]=n)});var n=a();f(\"mark\",[\"onload\",n+M.offset],null,\"api\"),f(\"timing\",[\"load\",n]);var r=v.createElement(\"script\");0===t.agent.indexOf(\"http://\")||0===t.agent.indexOf(\"https://\")?r.src=t.agent:r.src=l+\"://\"+t.agent,e.parentNode.insertBefore(r,e)}}function i(){\"complete\"===v.readyState&&o()}function o(){f(\"mark\",[\"domContent\",a()+M.offset],null,\"api\")}var a=t(3),f=t(\"handle\"),c=t(8),u=t(\"ee\"),s=t(6),d=t(4),p=t(2),l=p.getConfiguration(\"ssl\")===!1?\"http\":\"https\",m=window,v=m.document,g=\"addEventListener\",h=\"attachEvent\",y=m.XMLHttpRequest,w=y&&y.prototype,b=!d(m.location);NREUM.o={ST:setTimeout,SI:m.setImmediate,CT:clearTimeout,XHR:y,REQ:m.Request,EV:m.Event,PR:m.Promise,MO:m.MutationObserver};var x=\"\"+location,E={beacon:\"bam.nr-data.net\",errorBeacon:\"bam.nr-data.net\",agent:\"js-agent.newrelic.com/nr-1210.min.js\"},O=y&&w&&w[g]&&!/CriOS/.test(navigator.userAgent),M=e.exports={offset:a.getLastTimestamp(),now:a,origin:x,features:{},xhrWrappable:O,userAgent:s,disabled:b};if(!b){t(1),t(5),v[g]?(v[g](\"DOMContentLoaded\",o,!1),m[g](\"load\",r,!1)):(v[h](\"onreadystatechange\",i),m[h](\"onload\",r)),f(\"mark\",[\"firstbyte\",a.getLastTimestamp()],null,\"api\");var R=0}},{}],\"wrap-function\":[function(t,e,n){function r(t,e){function n(e,n,r,c,u){function nrWrapper(){var o,a,s,p;try{a=this,o=d(arguments),s=\"function\"==typeof r?r(o,a):r||{}}catch(l){i([l,\"\",[o,a,c],s],t)}f(n+\"start\",[o,a,c],s,u);try{return p=e.apply(a,o)}catch(m){throw f(n+\"err\",[o,a,m],s,u),m}finally{f(n+\"end\",[o,a,p],s,u)}}return a(e)?e:(n||(n=\"\"),nrWrapper[p]=e,o(e,nrWrapper,t),nrWrapper)}function r(t,e,r,i,o){r||(r=\"\");var f,c,u,s=\"-\"===r.charAt(0);for(u=0;u<e.length;u++)c=e[u],f=t[c],a(f)||(t[c]=n(f,s?c+r:r,i,c,o))}function f(n,r,o,a){if(!m||e){var f=m;m=!0;try{t.emit(n,r,o,e,a)}catch(c){i([c,n,r,o],t)}m=f}}return t||(t=s),n.inPlace=r,n.flag=p,n}function i(t,e){e||(e=s);try{e.emit(\"internal-error\",t)}catch(n){}}function o(t,e,n){if(Object.defineProperty&&Object.keys)try{var r=Object.keys(t);return r.forEach(function(n){Object.defineProperty(e,n,{get:function(){return t[n]},set:function(e){return t[n]=e,e}})}),e}catch(o){i([o],n)}for(var a in t)l.call(t,a)&&(e[a]=t[a]);return e}function a(t){return!(t&&t instanceof Function&&t.apply&&!t[p])}function f(t,e){var n=e(t);return n[p]=t,o(t,n,s),n}function c(t,e,n){var r=t[e];t[e]=f(r,n)}function u(){for(var t=arguments.length,e=new Array(t),n=0;n<t;++n)e[n]=arguments[n];return e}var s=t(\"ee\"),d=t(9),p=\"nr@original\",l=Object.prototype.hasOwnProperty,m=!1;e.exports=r,e.exports.wrapFunction=f,e.exports.wrapInPlace=c,e.exports.argsToArray=u},{}]},{},[\"loader\"]);</script><div id=\"jm\"><div class=\"vb row -i-ctr -j-ctr _head -bg-gy05 -gy5\"><div class=\"col3 -df -j-start\"><a href=\"/marketplace-vendor/\" class=\"_link -df -i-ctr -or5 -m -fs12\" target=\"_blank\" rel=\"noopener\"><svg viewBox=\"0 0 24 24\" class=\"ic -f-or5 -maxs\" width=\"16\" height=\"16\"><use xlink:href=\"https://www.jumia.com.ng/assets_he/images/i-icons.e70b7734.svg#cat-services\"></use></svg>Sell on Jumia</a></div><div class=\"col10 -df -j-ctr -fs0\"><a class=\"vent-link\" title=\"Jumia\"><svg viewBox=\"0 0 71 24\" class=\"ic\" width=\"71\" height=\"24\"><use xlink:href=\"https://www.jumia.com.ng/assets_he/images/i-global.62381cdf.svg#venture-jumia\"></use></svg></a><a class=\"vent-link\" title=\"JumiaPay\" href=\"https://pay.jumia.com.ng/?utm_source=jumia&amp;utm_medium=mall&amp;utm_campaign=venturebar\" rel=\"nofollow noopener\" target=\"_blank\"><svg viewBox=\"0 0 60 24\" class=\"ic\" width=\"60\" height=\"24\"><use xlink:href=\"https://www.jumia.com.ng/assets_he/images/i-global.62381cdf.svg#venture-pay\"></use></svg></a><a class=\"vent-link\" title=\"Jumia Food\" href=\"https://food.jumia.com.ng/?utm_source=jumia&amp;utm_medium=mall&amp;utm_campaign=venturebar\" rel=\"nofollow noopener\" target=\"_blank\"><svg viewBox=\"0 0 66 24\" class=\"ic\" width=\"66\" height=\"24\"><use xlink:href=\"https://www.jumia.com.ng/assets_he/images/i-global.62381cdf.svg#venture-food\"></use></svg></a><a class=\"vent-link\" title=\"Jumia Party\" href=\"https://party.jumia.com.ng/?utm_source=jumia&amp;utm_medium=mall&amp;utm_campaign=venturebar\" rel=\"nofollow noopener\" target=\"_blank\"><svg viewBox=\"0 0 80 24\" class=\"ic\" width=\"80\" height=\"24\"><use xlink:href=\"https://www.jumia.com.ng/assets_he/images/i-global.62381cdf.svg#venture-jumia-party\"></use></svg></a><a class=\"vent-link\" title=\"Jumia Now\" href=\"https://food.jumia.com.ng/supermarket/n3ko/food-jaar\" rel=\"nofollow noopener\" target=\"_blank\"><svg viewBox=\"0 0 66 24\" class=\"ic\" width=\"66\" height=\"24\"><use xlink:href=\"https://www.jumia.com.ng/assets_he/images/i-global.62381cdf.svg#venture-jumia-now\"></use></svg></a></div><div class=\"col3 -df -j-end -wt -mla -gy5\"></div></div><header class=\"header\"><section class=\"wrapper\"><div class=\"row -i-ctr -fw-nw\"><div class=\"col3 -df -i-ctr\"><div class=\"dpdw _tail _auto-w _hov _pleft -df -i-ctr -prs -mra\"><input id=\"dpdw-flyout\" class=\"tgl\" type=\"checkbox\" role=\"button\" aria-controls=\"dpdw-flyout-box\" aria-haspopup=\"true\" aria-label=\"Navigate Categories\" /><label class=\"trig -df -pan\" for=\"dpdw-flyout\"><span class=\"-fsh0\"><svg viewBox=\"0 0 24 24\" class=\"ic\" width=\"24\" height=\"24\"><use xlink:href=\"https://www.jumia.com.ng/assets_he/images/i-icons.e70b7734.svg#menu\"></use></svg></span></label><div class=\"box\" role=\"menu\" aria-labelledby=\"dpdw-flyout\" id=\"dpdw-flyout-box\"><div class=\"inbox\"><div class=\"flyout\" role=\"menu\"><a href=\"https://www.jumia.com.ng/groceries/\" class=\"itm\" role=\"menuitem\"><svg viewBox=\"0 0 24 24\" class=\"ic -mrxs -fsh0\" width=\"20\" height=\"20\"><use xlink:href=\"https://www.jumia.com.ng/assets_he/images/i-icons.e70b7734.svg#cat-groceries\"></use></svg><span class=\"text\">Supermarket</span></a><a href=\"/health-beauty/\" class=\"itm\" role=\"menuitem\"><svg viewBox=\"0 0 24 24\" class=\"ic -mrxs -fsh0\" width=\"20\" height=\"20\"><use xlink:href=\"https://www.jumia.com.ng/assets_he/images/i-icons.e70b7734.svg#cat-beauty\"></use></svg><span class=\"text\">Health &amp; Beauty</span></a><a href=\"/home-office/\" class=\"itm\" role=\"menuitem\"><svg viewBox=\"0 0 24 24\" class=\"ic -mrxs -fsh0\" width=\"20\" height=\"20\"><use xlink:href=\"https://www.jumia.com.ng/assets_he/images/i-icons.e70b7734.svg#cat-home\"></use></svg><span class=\"text\">Home &amp; Office</span></a><a href=\"/phones-tablets/\" class=\"itm\" role=\"menuitem\"><svg viewBox=\"0 0 24 24\" class=\"ic -mrxs -fsh0\" width=\"20\" height=\"20\"><use xlink:href=\"https://www.jumia.com.ng/assets_he/images/i-icons.e70b7734.svg#cat-mobile\"></use></svg><span class=\"text\">Phones &amp; Tablets</span></a><a href=\"/computing/\" class=\"itm\" role=\"menuitem\"><svg viewBox=\"0 0 24 24\" class=\"ic -mrxs -fsh0\" width=\"20\" height=\"20\"><use xlink:href=\"https://www.jumia.com.ng/assets_he/images/i-icons.e70b7734.svg#cat-computing\"></use></svg><span class=\"text\">Computing</span></a><a href=\"/electronics/\" class=\"itm\" role=\"menuitem\"><svg viewBox=\"0 0 24 24\" class=\"ic -mrxs -fsh0\" width=\"20\" height=\"20\"><use xlink:href=\"https://www.jumia.com.ng/assets_he/images/i-icons.e70b7734.svg#cat-tv\"></use></svg><span class=\"text\">Electronics</span></a><a href=\"/category-fashion-by-jumia/\" class=\"itm\" role=\"menuitem\"><svg viewBox=\"0 0 24 24\" class=\"ic -mrxs -fsh0\" width=\"20\" height=\"20\"><use xlink:href=\"https://www.jumia.com.ng/assets_he/images/i-icons.e70b7734.svg#cat-fashion\"></use></svg><span class=\"text\">Fashion</span></a><a href=\"/baby-products/\" class=\"itm\" role=\"menuitem\"><svg viewBox=\"0 0 24 24\" class=\"ic -mrxs -fsh0\" width=\"20\" height=\"20\"><use xlink:href=\"https://www.jumia.com.ng/assets_he/images/i-icons.e70b7734.svg#cat-baby\"></use></svg><span class=\"text\">Baby Products</span></a><a href=\"/video-games/\" class=\"itm\" role=\"menuitem\"><svg viewBox=\"0 0 24 24\" class=\"ic -mrxs -fsh0\" width=\"20\" height=\"20\"><use xlink:href=\"https://www.jumia.com.ng/assets_he/images/i-icons.e70b7734.svg#cat-games\"></use></svg><span class=\"text\">Gaming</span></a><a href=\"/sporting-goods/\" class=\"itm\" role=\"menuitem\"><svg viewBox=\"0 0 24 24\" class=\"ic -mrxs -fsh0\" width=\"20\" height=\"20\"><use xlink:href=\"https://www.jumia.com.ng/assets_he/images/i-icons.e70b7734.svg#cat-fitness\"></use></svg><span class=\"text\">Sporting Goods</span></a><a href=\"/automobile/\" class=\"itm\" role=\"menuitem\"><svg viewBox=\"0 0 24 24\" class=\"ic -mrxs -fsh0\" width=\"20\" height=\"20\"><use xlink:href=\"https://www.jumia.com.ng/assets_he/images/i-icons.e70b7734.svg#cat-car\"></use></svg><span class=\"text\">Automobile</span></a><a class=\"itm\" role=\"menuitem\" tabindex=\"0\"><svg viewBox=\"0 0 24 24\" class=\"ic -mrxs -fsh0\" width=\"20\" height=\"20\"><use xlink:href=\"https://www.jumia.com.ng/assets_he/images/i-icons.e70b7734.svg#cat-othercategories\"></use></svg><span class=\"text\">Other categories</span></a></div></div></div></div><a href=\"/\" class=\"-df -i-ctr -mra\"><svg role=\"img\" aria-label=\"Jumia Nigeria: Online Shopping for Electronics, Phones &amp; Fashion\" viewBox=\"0 0 139 32\" class=\"ic\" width=\"139\" height=\"32\"><use xlink:href=\"https://www.jumia.com.ng/assets_he/images/i-shop-jumia.c8de1c55.svg#logo\"></use></svg></a></div><form id=\"search\" method=\"get\" class=\"cola -df\" action=\"/catalog/\" data-track-onsubmit=\"search\"><div class=\"find\"><svg viewBox=\"0 0 24 24\" class=\"ic\" width=\"24\" height=\"24\"><use xlink:href=\"https://www.jumia.com.ng/assets_he/images/i-icons.e70b7734.svg#search\"></use></svg><input type=\"text\" name=\"q\" id=\"fi-q\" placeholder=\"Search products, brands and categories\" aria-label=\"Search\" value autocomplete=\"off\" required /><button type=\"button\" class=\"rst\" aria-label=\"Reset\"><svg viewBox=\"0 0 24 24\" class=\"ic\" width=\"24\" height=\"24\"><use xlink:href=\"https://www.jumia.com.ng/assets_he/images/i-icons.e70b7734.svg#close\"></use></svg></button><div class=\"sug\"></div></div><button class=\"btn _prim _md -mls -fsh0\">Search</button></form><div class=\"col -df -j-bet -m -phn -i-ctr\"><div class=\"dpdw _pcent\"><input id=\"dpdw-login\" class=\"tgl\" type=\"checkbox\" role=\"button\" aria-controls=\"dpdw-login-box\" aria-haspopup=\"true\" aria-label=\"Account\" /><label class=\"trig -df -i-ctr -fs16\" for=\"dpdw-login\"><span class=\"-fsh0 -mrs\"><svg viewBox=\"0 0 24 24\" class=\"ic\" width=\"24\" height=\"24\"><use xlink:href=\"https://www.jumia.com.ng/assets_he/images/i-icons.e70b7734.svg#person\"></use></svg></span>Account<svg viewBox=\"0 0 24 24\" class=\"ic -mls -fsh0\" width=\"18\" height=\"18\"><use xlink:href=\"https://www.jumia.com.ng/assets_he/images/i-icons.e70b7734.svg#arrow-down\"></use></svg></label><div class=\"box -r\" role=\"menu\" aria-labelledby=\"dpdw-login\" id=\"dpdw-login-box\"><div class=\"inbox\"><div class=\"-pam -hr-bb\"><a href=\"/customer/account/login/?return=%2Fcatalog%2Fproductratingsreviews%2Fsku%2FLI287ST1FXHNCNAFAMZ%2F\" class=\"btn _prim -fw _md\">Sign In</a></div><a href=\"/customer/account/index/\" class=\"-df -i-ctr -pas -hov-bg-gy05 -hov-m\"><svg viewBox=\"0 0 24 24\" class=\"ic -mrm -fsh0\" width=\"24\" height=\"24\"><use xlink:href=\"https://www.jumia.com.ng/assets_he/images/i-icons.e70b7734.svg#person\"></use></svg>My Account</a><a href=\"/customer/order/index/\" class=\"-df -i-ctr -pas -hov-bg-gy05 -hov-m\"><svg viewBox=\"0 0 24 24\" class=\"ic -mrm -fsh0\" width=\"24\" height=\"24\"><use xlink:href=\"https://www.jumia.com.ng/assets_he/images/i-icons.e70b7734.svg#orders\"></use></svg>Orders</a><a href=\"/customer/wishlist/index/\" class=\"-df -i-ctr -pas -hov-bg-gy05 -hov-m\"><svg viewBox=\"0 0 24 24\" class=\"ic -mrm -fsh0\" width=\"24\" height=\"24\"><use xlink:href=\"https://www.jumia.com.ng/assets_he/images/i-icons.e70b7734.svg#favorite-border\"></use></svg>Saved Items</a></div></div></div><div class=\"dpdw _pcent\"><input id=\"dpdw-help\" class=\"tgl\" type=\"checkbox\" role=\"button\" aria-controls=\"dpdw-help-box\" aria-haspopup=\"true\" aria-label=\"Help\" /><label class=\"trig -df -i-ctr -fs16\" for=\"dpdw-help\"><span class=\"-fsh0 -mrs\"><svg viewBox=\"0 0 24 24\" class=\"ic\" width=\"24\" height=\"24\"><use xlink:href=\"https://www.jumia.com.ng/assets_he/images/i-icons.e70b7734.svg#help-outline\"></use></svg></span>Help<svg viewBox=\"0 0 24 24\" class=\"ic -mls -fsh0\" width=\"18\" height=\"18\"><use xlink:href=\"https://www.jumia.com.ng/assets_he/images/i-icons.e70b7734.svg#arrow-down\"></use></svg></label><div class=\"box -r\" role=\"menu\" aria-labelledby=\"dpdw-help\" id=\"dpdw-help-box\"><div class=\"inbox\"><a href=\"https://www.jumia.com.ng/help/\" class=\"-df -i-ctr -phm -pv12 -hov-bg-gy05 -hov-m\">Help Center</a><a href=\"https://www.jumia.com.ng/sp-help-with-my-orders/\" class=\"-df -i-ctr -phm -pv12 -hov-bg-gy05 -hov-m\">Place &amp; track order</a><a href=\"https://www.jumia.com.ng/sp-cancel-order/\" class=\"-df -i-ctr -phm -pv12 -hov-bg-gy05 -hov-m\">Order cancellation</a><a href=\"https://www.jumia.com.ng/returns-refunds/\" class=\"-df -i-ctr -phm -pv12 -hov-bg-gy05 -hov-m\">Returns &amp; Refunds</a><a href=\"https://www.jumia.com.ng/how-to-pay/\" class=\"-df -i-ctr -phm -pv12 -hov-bg-gy05 -hov-m\">Payment &amp; Jumia account</a><div class=\"-tac -hr _hx2 -fs0 -pam\"><button class=\"btn _prim _md _i -fw\" data-btn-lc data-eventCategory=\"LiveChat\" data-eventAction=\"open\" data-track-onclick><svg viewBox=\"0 0 24 24\" class=\"ic\" width=\"24\" height=\"24\"><use xlink:href=\"https://www.jumia.com.ng/assets_he/images/i-icons.e70b7734.svg#chat\"></use></svg><span>Live Help</span></button></div></div></div></div><a class=\"-df -i-ctr -gy8 -hov-or5 -phs -fs16\" href=\"/cart/\"><span id=\"ci\" class=\"-mrs -fs0\"><svg viewBox=\"0 0 24 24\" class=\"ic\" width=\"24\" height=\"24\"><use xlink:href=\"https://www.jumia.com.ng/assets_he/images/i-icons.e70b7734.svg#shopping-cart\"></use></svg></span>Cart</a></div></div></section></header><article class=\"banner _pp\" data-ppb-rev=\"v1.0\"><div class=\"ctt-w\"><p class=\"ctt\">This website uses cookies. For further information on how we use cookies you can read our Privacy and Cookie Notice. <a class=\"_more -fs12\" href=\"/sp-privacy/\" target=\"_blank\" rel=\"noopener\">Cookie and Privacy Policy</a></p><button class=\"cls\" aria-label=\"Close\"><span class=\"ic-bg -bg-wt\"><svg viewBox=\"0 0 24 24\" class=\"ic -maxs\" width=\"16\" height=\"16\"><use xlink:href=\"https://www.jumia.com.ng/assets_he/images/i-icons.e70b7734.svg#close\"></use></svg></span></button></div></article><main class=\"-pvxl\"><div class=\"row\"><div class=\"col16\"><section class=\"card\"><header class=\"-df -i-ctr -bb -pvs -phm\"><a class=\"-mvxs -mrm -fs0\" href=\"/lifebuoy-total-10-sanitizer-200ml-63922278.html\" aria-label=\"product_reviews_back-cta\"><svg viewBox=\"0 0 24 24\" class=\"ic\" width=\"24\" height=\"24\"><use xlink:href=\"https://www.jumia.com.ng/assets_he/images/i-icons.e70b7734.svg#arrow-back\"></use></svg></a><h1 class=\"-fs20 -m -pvxs\">Customer Feedback</h1></header><div class=\"row -fw-nw\"><div class=\"col4 -phm\"><h2 class=\"-fs14 -m -upp -pvm\">Product Ratings (128)</h2><div class=\"-fsh0 -bg-gy05 -df -d-co -i-ctr -rad4 -pam\"><div class=\"-fs29 -yl5 -pvxs\"><span class=\"-b\">4.6</span>/5</div><div class=\"stars _m -mvs\">4.6 out of 5<div class=\"in\" style=\"width:91.99999999999999%\"></div></div><p class=\"-fs16 -pts\">128 ratings</p></div><ul class=\"-ptxs -mts -pbm\"><li class=\"-df -i-ctr -ptxs -m\" aria-hidden=\"true\">5<svg viewBox=\"0 0 24 24\" class=\"ic -fsh0 -f-yl5 -mhs\" width=\"20\" height=\"20\"><use xlink:href=\"https://www.jumia.com.ng/assets_he/images/i-icons.e70b7734.svg#star\"></use></svg><p class=\"-gy5 -mw-34 -r\">(85)</p><div class=\"meter _s -mlm\" style=\"background-image:linear-gradient(to right,#f6b01e 66.40625%,#ededed 66.40625%);\"></div></li><li class=\"-df -i-ctr -ptxs -m\" aria-hidden=\"true\">4<svg viewBox=\"0 0 24 24\" class=\"ic -fsh0 -f-yl5 -mhs\" width=\"20\" height=\"20\"><use xlink:href=\"https://www.jumia.com.ng/assets_he/images/i-icons.e70b7734.svg#star\"></use></svg><p class=\"-gy5 -mw-34 -r\">(35)</p><div class=\"meter _s -mlm\" style=\"background-image:linear-gradient(to right,#f6b01e 27.34375%,#ededed 27.34375%);\"></div></li><li class=\"-df -i-ctr -ptxs -m\" aria-hidden=\"true\">3<svg viewBox=\"0 0 24 24\" class=\"ic -fsh0 -f-yl5 -mhs\" width=\"20\" height=\"20\"><use xlink:href=\"https://www.jumia.com.ng/assets_he/images/i-icons.e70b7734.svg#star\"></use></svg><p class=\"-gy5 -mw-34 -r\">(7)</p><div class=\"meter _s -mlm\" style=\"background-image:linear-gradient(to right,#f6b01e 5.46875%,#ededed 5.46875%);\"></div></li><li class=\"-df -i-ctr -ptxs -m\" aria-hidden=\"true\">2<svg viewBox=\"0 0 24 24\" class=\"ic -fsh0 -f-yl5 -mhs\" width=\"20\" height=\"20\"><use xlink:href=\"https://www.jumia.com.ng/assets_he/images/i-icons.e70b7734.svg#star\"></use></svg><p class=\"-gy5 -mw-34 -r\">(1)</p><div class=\"meter _s -mlm\" style=\"background-image:linear-gradient(to right,#f6b01e 0.78125%,#ededed 0.78125%);\"></div></li><li class=\"-df -i-ctr -ptxs -m\" aria-hidden=\"true\">1<svg viewBox=\"0 0 24 24\" class=\"ic -fsh0 -f-yl5 -mhs\" width=\"20\" height=\"20\"><use xlink:href=\"https://www.jumia.com.ng/assets_he/images/i-icons.e70b7734.svg#star\"></use></svg><p class=\"-gy5 -mw-34 -r\">(0)</p><div class=\"meter _s -mlm\" style=\"background-image:linear-gradient(to right,#f6b01e 0%,#ededed 0%);\"></div></li></ul></div><div class=\"cola -phm -df -d-co\"><h2 class=\"-fs14 -m -upp -ptm\">Product Reviews (45)</h2><article class=\"-pvs -hr _bet\"><div class=\"stars _m _al -mvs\">5 out of 5<div class=\"in\" style=\"width:100%\"></div></div><h3 class=\"-m -fs16 -pvs\">LOVE IT</h3><p class=\"-pvs\">Great Product!</p><div class=\"-df -j-bet -i-ctr -gy5\"><div class=\"-pvs\"><span class=\"-prs\">26-07-2021</span><span>by Mary</span></div><div class=\"-df -i-ctr -gn5 -fsh0\"><svg viewBox=\"0 0 24 24\" class=\"ic -f-gn5\" width=\"22\" height=\"22\"><use xlink:href=\"https://www.jumia.com.ng/assets_he/images/i-icons.e70b7734.svg#check-verified\"></use></svg>Verified Purchase</div></div></article><article class=\"-pvs -hr _bet\"><div class=\"stars _m _al -mvs\">5 out of 5<div class=\"in\" style=\"width:100%\"></div></div><h3 class=\"-m -fs16 -pvs\">Nice</h3><p class=\"-pvs\">Lovely product</p><div class=\"-df -j-bet -i-ctr -gy5\"><div class=\"-pvs\"><span class=\"-prs\">15-07-2021</span><span>by Engr Vincent</span></div><div class=\"-df -i-ctr -gn5 -fsh0\"><svg viewBox=\"0 0 24 24\" class=\"ic -f-gn5\" width=\"22\" height=\"22\"><use xlink:href=\"https://www.jumia.com.ng/assets_he/images/i-icons.e70b7734.svg#check-verified\"></use></svg>Verified Purchase</div></div></article><article class=\"-pvs -hr _bet\"><div class=\"stars _m _al -mvs\">5 out of 5<div class=\"in\" style=\"width:100%\"></div></div><h3 class=\"-m -fs16 -pvs\">Lovely smell... Very good</h3><p class=\"-pvs\">Very nice fragrance</p><div class=\"-df -j-bet -i-ctr -gy5\"><div class=\"-pvs\"><span class=\"-prs\">14-07-2021</span><span>by UFUOMA</span></div><div class=\"-df -i-ctr -gn5 -fsh0\"><svg viewBox=\"0 0 24 24\" class=\"ic -f-gn5\" width=\"22\" height=\"22\"><use xlink:href=\"https://www.jumia.com.ng/assets_he/images/i-icons.e70b7734.svg#check-verified\"></use></svg>Verified Purchase</div></div></article><article class=\"-pvs -hr _bet\"><div class=\"stars _m _al -mvs\">5 out of 5<div class=\"in\" style=\"width:100%\"></div></div><h3 class=\"-m -fs16 -pvs\">I like it</h3><p class=\"-pvs\">It's trusted</p><div class=\"-df -j-bet -i-ctr -gy5\"><div class=\"-pvs\"><span class=\"-prs\">14-07-2021</span><span>by Emmanuel</span></div><div class=\"-df -i-ctr -gn5 -fsh0\"><svg viewBox=\"0 0 24 24\" class=\"ic -f-gn5\" width=\"22\" height=\"22\"><use xlink:href=\"https://www.jumia.com.ng/assets_he/images/i-icons.e70b7734.svg#check-verified\"></use></svg>Verified Purchase</div></div></article><article class=\"-pvs -hr _bet\"><div class=\"stars _m _al -mvs\">5 out of 5<div class=\"in\" style=\"width:100%\"></div></div><h3 class=\"-m -fs16 -pvs\">Good</h3><p class=\"-pvs\">Product is Good</p><div class=\"-df -j-bet -i-ctr -gy5\"><div class=\"-pvs\"><span class=\"-prs\">27-06-2021</span><span>by Kingsley</span></div><div class=\"-df -i-ctr -gn5 -fsh0\"><svg viewBox=\"0 0 24 24\" class=\"ic -f-gn5\" width=\"22\" height=\"22\"><use xlink:href=\"https://www.jumia.com.ng/assets_he/images/i-icons.e70b7734.svg#check-verified\"></use></svg>Verified Purchase</div></div></article><article class=\"-pvs -hr _bet\"><div class=\"stars _m _al -mvs\">4 out of 5<div class=\"in\" style=\"width:80%\"></div></div><h3 class=\"-m -fs16 -pvs\">Good product</h3><p class=\"-pvs\">Normal sanitizer. Does its job</p><div class=\"-df -j-bet -i-ctr -gy5\"><div class=\"-pvs\"><span class=\"-prs\">08-06-2021</span><span>by Wale</span></div><div class=\"-df -i-ctr -gn5 -fsh0\"><svg viewBox=\"0 0 24 24\" class=\"ic -f-gn5\" width=\"22\" height=\"22\"><use xlink:href=\"https://www.jumia.com.ng/assets_he/images/i-icons.e70b7734.svg#check-verified\"></use></svg>Verified Purchase</div></div></article><article class=\"-pvs -hr _bet\"><div class=\"stars _m _al -mvs\">5 out of 5<div class=\"in\" style=\"width:100%\"></div></div><h3 class=\"-m -fs16 -pvs\">original</h3><p class=\"-pvs\">quite sticky, but it does the job</p><div class=\"-df -j-bet -i-ctr -gy5\"><div class=\"-pvs\"><span class=\"-prs\">14-05-2021</span><span>by OluwaTosin</span></div><div class=\"-df -i-ctr -gn5 -fsh0\"><svg viewBox=\"0 0 24 24\" class=\"ic -f-gn5\" width=\"22\" height=\"22\"><use xlink:href=\"https://www.jumia.com.ng/assets_he/images/i-icons.e70b7734.svg#check-verified\"></use></svg>Verified Purchase</div></div></article><article class=\"-pvs -hr _bet\"><div class=\"stars _m _al -mvs\">4 out of 5<div class=\"in\" style=\"width:80%\"></div></div><h3 class=\"-m -fs16 -pvs\">Small, convenient</h3><p class=\"-pvs\">Fits nicely in hand bags etc and reasonably priced. \n",
      "Good product.</p><div class=\"-df -j-bet -i-ctr -gy5\"><div class=\"-pvs\"><span class=\"-prs\">06-05-2021</span><span>by Patricia</span></div><div class=\"-df -i-ctr -gn5 -fsh0\"><svg viewBox=\"0 0 24 24\" class=\"ic -f-gn5\" width=\"22\" height=\"22\"><use xlink:href=\"https://www.jumia.com.ng/assets_he/images/i-icons.e70b7734.svg#check-verified\"></use></svg>Verified Purchase</div></div></article><article class=\"-pvs -hr _bet\"><div class=\"stars _m _al -mvs\">5 out of 5<div class=\"in\" style=\"width:100%\"></div></div><h3 class=\"-m -fs16 -pvs\">Awesome</h3><p class=\"-pvs\">We like am well well.</p><div class=\"-df -j-bet -i-ctr -gy5\"><div class=\"-pvs\"><span class=\"-prs\">05-05-2021</span><span>by Benjoy</span></div><div class=\"-df -i-ctr -gn5 -fsh0\"><svg viewBox=\"0 0 24 24\" class=\"ic -f-gn5\" width=\"22\" height=\"22\"><use xlink:href=\"https://www.jumia.com.ng/assets_he/images/i-icons.e70b7734.svg#check-verified\"></use></svg>Verified Purchase</div></div></article><article class=\"-pvs -hr _bet\"><div class=\"stars _m _al -mvs\">5 out of 5<div class=\"in\" style=\"width:100%\"></div></div><h3 class=\"-m -fs16 -pvs\">its ok</h3><p class=\"-pvs\">its ok</p><div class=\"-df -j-bet -i-ctr -gy5\"><div class=\"-pvs\"><span class=\"-prs\">27-04-2021</span><span>by Onyeka</span></div><div class=\"-df -i-ctr -gn5 -fsh0\"><svg viewBox=\"0 0 24 24\" class=\"ic -f-gn5\" width=\"22\" height=\"22\"><use xlink:href=\"https://www.jumia.com.ng/assets_he/images/i-icons.e70b7734.svg#check-verified\"></use></svg>Verified Purchase</div></div></article></div></div><div class=\"pg-w -mhm -ptl -pbxl -bt\"><a class=\"pg\" aria-label=\"First Page\"><svg viewBox=\"0 0 24 24\" class=\"ic\" width=\"24\" height=\"24\"><use xlink:href=\"https://www.jumia.com.ng/assets_he/images/i-icons.e70b7734.svg#first-page\"></use></svg></a><a class=\"pg\" aria-label=\"Previous Page\"><svg viewBox=\"0 0 24 24\" class=\"ic\" width=\"24\" height=\"24\"><use xlink:href=\"https://www.jumia.com.ng/assets_he/images/i-icons.e70b7734.svg#arrow-left\"></use></svg></a><a aria-label=\"Page 1\" class=\"pg _act\">1</a><a aria-label=\"Page 2\" class=\"pg\" href=\"/catalog/productratingsreviews/sku/LI287ST1FXHNCNAFAMZ/?page=2\">2</a><a aria-label=\"Page 3\" class=\"pg\" href=\"/catalog/productratingsreviews/sku/LI287ST1FXHNCNAFAMZ/?page=3\">3</a><a href=\"/catalog/productratingsreviews/sku/LI287ST1FXHNCNAFAMZ/?page=2\" class=\"pg\" aria-label=\"Next Page\"><svg viewBox=\"0 0 24 24\" class=\"ic\" width=\"24\" height=\"24\"><use xlink:href=\"https://www.jumia.com.ng/assets_he/images/i-icons.e70b7734.svg#arrow-right\"></use></svg></a><a href=\"/catalog/productratingsreviews/sku/LI287ST1FXHNCNAFAMZ/?page=5\" class=\"pg\" aria-label=\"Last Page\"><svg viewBox=\"0 0 24 24\" class=\"ic\" width=\"24\" height=\"24\"><use xlink:href=\"https://www.jumia.com.ng/assets_he/images/i-icons.e70b7734.svg#last-page\"></use></svg></a></div></section></div></div></main><footer class=\"-pbm -fs12 -bg-gy75 -gy3\"><div class=\"-bg-gy8 -mbm\"><div class=\"row -pvl\"><div class=\"col4\"><svg viewBox=\"0 0 138 32\" class=\"ic\" width=\"140\" height=\"32\"><use xlink:href=\"https://www.jumia.com.ng/assets_he/images/i-shop-jumia.c8de1c55.svg#logo-inv\"></use></svg></div><div class=\"col7 -df -d-co -j-bet\"><div><div class=\"f-t -pbs\">New to Jumia?</div>Subscribe to our newsletter to get updates on our latest offers!</div><form method=\"post\" id=\"nl-ft-f\" action=\"/newsletter/subscription/default/\" class=\"nl-form _ftr -ptm\"><div class=\"-df -i-start\"><div class=\"nl-fi-w -mrs -fg1\"><label class=\"nl-lbl -vh-sr\" for=\"fi-nl-ft-email\">form_email-label</label><input id=\"fi-nl-ft-email\" class=\"nl-fi\" type=\"email\" name=\"email\" placeholder=\"Enter E-mail Address\" value required /><svg viewBox=\"0 0 24 24\" class=\"ic -f-gy3\" width=\"18\" height=\"18\"><use xlink:href=\"https://www.jumia.com.ng/assets_he/images/i-icons.e70b7734.svg#email\"></use></svg></div><div class=\"-df\"><button name=\"gender\" value=\"male\" class=\"nl-btn brd-btn _sqr -phm\">Male</button><button name=\"gender\" value=\"female\" class=\"nl-btn brd-btn _sqr -phm\">Female</button></div></div><input name=\"csrfToken\" value=\"01fbfa54987fff54dfd22f27c0a02596\" type=\"hidden\" /></form></div><div class=\"col4 -mla\"><div class=\"-df\"><svg viewBox=\"0 0 40 40\" class=\"ic -fsh0\" width=\"40\" height=\"40\"><use xlink:href=\"https://www.jumia.com.ng/assets_he/images/i-shop-jumia.c8de1c55.svg#app\"></use></svg><div class=\"-plm\"><div class=\"f-t -pbs\">DOWNLOAD JUMIA FREE APP</div>Get access to exclusive offers!</div></div><div class=\"-df -ptm\"><a href=\"https://itunes.apple.com/app/id925015459?mt=8\" title=\"Get it on the App Store\" class=\"brd-btn _sqr ic-link -paxs -dif -mrs\" target=\"_blank\" rel=\"nofollow noopener\"><svg viewBox=\"0 0 88 24\" class=\"ic\" width=\"88\" height=\"22\"><use xlink:href=\"https://www.jumia.com.ng/assets_he/images/i-global.62381cdf.svg#appstore\"></use></svg></a><a href=\"https://play.google.com/store/apps/details?id=com.jumia.android&amp;referrer=adjust_reftag%3DcdTxOjM\" title=\"Get it on Google Play\" class=\"brd-btn _sqr ic-link -paxs -dif\" target=\"_blank\" rel=\"nofollow noopener\"><svg viewBox=\"0 0 93 23\" class=\"ic\" width=\"93\" height=\"22\"><use xlink:href=\"https://www.jumia.com.ng/assets_he/images/i-global.62381cdf.svg#googleplay\"></use></svg></a></div></div></div></div><div class=\"row -pbl\"><div class=\"col4 -df -d-co -pvs\"><span class=\"f-t -pbm\">LET US HELP YOU</span><ul class=\"-lsn\"><li><a class=\"_link -pbxs\" href=\"https://www.jumia.com.ng/help/\">Help Center</a></li><li><a class=\"_link -pbxs\" href=\"https://www.jumia.com.ng/how-to/\">How to shop on Jumia?</a></li><li><a class=\"_link -pbxs\" href=\"https://www.jumia.com.ng/delivery-timelines/\">Delivery options and timelines</a></li><li><a class=\"_link -pbxs\" href=\"https://www.jumia.com.ng/returns-refunds/\">How to return a product on Jumia?</a></li><li><a class=\"_link -pbxs\" href=\"https://www.jumia.com.ng/jumia-corporate/\">Corporate and bulk purchases</a></li><li><a class=\"_link -pbxs\" href=\"https://jumia.secure.force.com/CounterfeitCaseForm/\">Report a Product</a></li></ul></div><div class=\"col4 -df -d-co -pvs\"><span class=\"f-t -pbm\">ABOUT JUMIA</span><ul class=\"-lsn\"><li><a class=\"_link -pbxs\" href=\"https://www.jumia.com.ng/about_us/\">About us</a></li><li><a class=\"_link -pbxs\" href=\"https://www.jumia.com.ng/careers/\">Jumia careers</a></li><li><a class=\"_link -pbxs\" href=\"https://www.jumia.com.ng/jumia-express/\">Jumia Express</a></li><li><a class=\"_link -pbxs\" href=\"https://www.jumia.com.ng/terms-of-use/\">Terms and Conditions</a></li><li><a class=\"_link -pbxs\" href=\"https://www.jumia.com.ng/privacy/\">Privacy policy</a></li><li><a class=\"_link -pbxs\" href=\"https://www.jumia.com.ng/jumia-prime/\">Jumia Prime</a></li><li><a class=\"_link -pbxs\" href=\"https://www.jumia.com.ng/stay-safe/\">Stay Safe</a></li><li><a class=\"_link -pbxs\" href=\"https://www.jumia.com.ng/mlp-jumia-global/\">Jumia Global</a></li><li><a class=\"_link -pbxs\" href=\"https://www.jumia.com.ng/mlp-anniversary/\">Jumia Anniversary</a></li></ul></div><div class=\"col4 -df -d-co -pvs\"><span class=\"f-t -pbm\">MAKE MONEY WITH JUMIA</span><ul class=\"-lsn\"><li><a class=\"_link -pbxs\" href=\"https://www.jumia.com.ng/marketplace-vendor/\">Sell on Jumia</a></li><li><a class=\"_link -pbxs\" href=\"https://www.jumia.com.ng/jforce/\">Become a Sales Consultant</a></li><li><a class=\"_link -pbxs\" href=\"https://productionservices.jumia.com.ng/\">Become a Jumia Vendor Service Provider</a></li><li><a class=\"_link -pbxs\" href=\"https://jumia_form.formstack.com/forms/3pl_interest_registration_en\">Become a Logistics Service Partner</a></li><li><a class=\"_link -pbxs\" href=\"https://docs.google.com/forms/d/e/1FAIpQLSdPidhsz4DAiTzT8UGtvGHXwdJ13_Yqq4iYp8ClhyvZ3qHcCA/viewform?gxids=7628\">Join the Jumia DA Academy</a></li><li><a class=\"_link -pbxs\" href=\"https://kol.jumia.com/login\">Join the Jumia KOL Program</a></li></ul></div><div class=\"col4 row -c-start -pvs\"><span class=\"f-t col16 -pbm\">JUMIA INTERNATIONAL</span><ul class=\"col5 -df -d-co -lsn\"><li><a class=\"_link -pbxs\" href=\"https://www.jumia.dz/\">Algeria</a></li><li><a class=\"_link -pbxs\" href=\"https://www.jumia.com.eg/\">Egypt</a></li><li><a class=\"_link -pbxs\" href=\"https://www.jumia.com.gh/\">Ghana</a></li><li><a class=\"_link -pbxs\" href=\"https://www.jumia.ci/\">Ivory Coast</a></li><li><a class=\"_link -pbxs\" href=\"https://www.jumia.co.ke/\">Kenya</a></li><li><a class=\"_link -pbxs\" href=\"https://www.jumia.ma/\">Morocco</a></li></ul><ul class=\"col5 -df -d-co -lsn\"><li><a class=\"_link -pbxs\" href=\"https://www.jumia.sn/\">Senegal</a></li><li><a class=\"_link -pbxs\" href=\"https://www.jumia.com.tn/\">Tunisia</a></li><li><a class=\"_link -pbxs\" href=\"https://www.jumia.ug/\">Uganda</a></li><li><a class=\"_link -pbxs\" href=\"https://www.jumia.co.za/\">South Africa</a></li><li><a class=\"_link -pbxs\" href=\"https://www.zando.co.za/\">Zando</a></li></ul></div></div><div class=\"row -pbl\"><div class=\"col4 row\"><div class=\"f-t col16 -pbm\">JOIN US ON</div><div class=\"col16 -phn -fs0\"><a href=\"https://www.facebook.com/jumia.com.ng/\" title=\"Facebook Jumia Nigeria\" class=\"ic-link -pas\" target=\"_blank\" rel=\"noopener\"><svg viewBox=\"0 0 24 24\" class=\"ic\" width=\"26\" height=\"26\"><use xlink:href=\"https://www.jumia.com.ng/assets_he/images/i-icons.e70b7734.svg#soc-facebook\"></use></svg></a><a href=\"https://twitter.com/jumianigeria\" title=\"Twitter Jumia Nigeria\" class=\"ic-link -pas\" target=\"_blank\" rel=\"noopener\"><svg viewBox=\"0 0 24 24\" class=\"ic\" width=\"26\" height=\"26\"><use xlink:href=\"https://www.jumia.com.ng/assets_he/images/i-icons.e70b7734.svg#soc-twitter\"></use></svg></a><a href=\"https://www.youtube.com/c/JumiaNigeriaNG\" title=\"YouTube Jumia Nigeria\" class=\"ic-link -pas\" target=\"_blank\" rel=\"noopener\"><svg viewBox=\"0 0 24 24\" class=\"ic\" width=\"26\" height=\"26\"><use xlink:href=\"https://www.jumia.com.ng/assets_he/images/i-icons.e70b7734.svg#soc-youtube\"></use></svg></a><a href=\"https://blog.jumia.com.ng/\" title=\"Blog Jumia Nigeria\" class=\"ic-link -pas\" target=\"_blank\" rel=\"noopener\"><svg viewBox=\"0 0 24 24\" class=\"ic\" width=\"26\" height=\"26\"><use xlink:href=\"https://www.jumia.com.ng/assets_he/images/i-icons.e70b7734.svg#soc-jumia\"></use></svg></a><a href=\"https://www.instagram.com/jumianigeria/\" title=\"Instagram Jumia Nigeria\" class=\"ic-link -pas\" target=\"_blank\" rel=\"noopener\"><svg viewBox=\"0 0 24 24\" class=\"ic\" width=\"26\" height=\"26\"><use xlink:href=\"https://www.jumia.com.ng/assets_he/images/i-icons.e70b7734.svg#soc-instagram\"></use></svg></a><a href=\"https://twitter.com/JumiaNGHelp\" title=\"Live Help on Twitter Jumia Nigeria\" class=\"ic-link -pas\" target=\"_blank\" rel=\"noopener\"><svg viewBox=\"0 0 24 24\" class=\"ic\" width=\"26\" height=\"26\"><use xlink:href=\"https://www.jumia.com.ng/assets_he/images/i-icons.e70b7734.svg#soc-twitter\"></use></svg></a></div></div><div class=\"col12 row\"><div class=\"f-t col16 -pbm\">PAYMENT METHODS &amp; DELIVERY PARTNERS</div><div class=\"col16 -phn -df -fw-w\"><a href=\"https://www.jumia.com.ng/cash-on-delivery/\" title=\"Payment on delivery\" class=\"ic-link -pas\"><svg viewBox=\"0 0 24 24\" class=\"ic\" width=\"24\" height=\"24\"><use xlink:href=\"https://www.jumia.com.ng/assets_he/images/i-global.62381cdf.svg#pay-cashondelivery\"></use></svg></a><a href=\"https://www.jumia.com.ng/sp-jumiapay-overview/\" title=\"Jumia Pay\" class=\"ic-link -pas\"><svg viewBox=\"0 0 85 24\" class=\"ic\" width=\"85\" height=\"24\"><use xlink:href=\"https://www.jumia.com.ng/assets_he/images/i-global.62381cdf.svg#pay-jumiapay\"></use></svg></a><a href=\"https://www.jumia.com.ng/credit-cards/\" title=\"Mastercard\" class=\"ic-link -pas\"><svg viewBox=\"0 0 36 24\" class=\"ic\" width=\"36\" height=\"24\"><use xlink:href=\"https://www.jumia.com.ng/assets_he/images/i-global.62381cdf.svg#pay-mastercard\"></use></svg></a><a href=\"https://www.jumia.com.ng/credit-cards/\" title=\"Visa\" class=\"ic-link -pas\"><svg viewBox=\"0 0 31 24\" class=\"ic\" width=\"31\" height=\"24\"><use xlink:href=\"https://www.jumia.com.ng/assets_he/images/i-global.62381cdf.svg#pay-visa\"></use></svg></a><a href=\"https://www.jumia.com.ng/credit-cards/\" title=\"Verve\" class=\"ic-link -pas\"><svg viewBox=\"0 0 42 24\" class=\"ic\" width=\"42\" height=\"24\"><use xlink:href=\"https://www.jumia.com.ng/assets_he/images/i-global.62381cdf.svg#pay-verve\"></use></svg></a><a href=\"https://www.jumia.com.ng/mcash-payment/\" title=\"mCash\" class=\"ic-link -pas\"><svg viewBox=\"0 0 30 24\" class=\"ic\" width=\"30\" height=\"24\"><use xlink:href=\"https://www.jumia.com.ng/assets_he/images/i-global.62381cdf.svg#pay-mcash\"></use></svg></a><a href=\"https://www.jumia.com.ng/credit-cards/\" title=\"Interswitch\" class=\"ic-link -pas\"><svg viewBox=\"0 0 86 24\" class=\"ic\" width=\"86\" height=\"24\"><use xlink:href=\"https://www.jumia.com.ng/assets_he/images/i-global.62381cdf.svg#pay-interswitch\"></use></svg></a><a title=\"DHL\" class=\"ic-link -pas\"><svg viewBox=\"0 0 63 24\" class=\"ic\" width=\"63\" height=\"24\"><use xlink:href=\"https://www.jumia.com.ng/assets_he/images/i-global.62381cdf.svg#pay-dhl\"></use></svg></a><a title=\"MAX\" class=\"ic-link -pas\"><svg viewBox=\"0 0 50 24\" class=\"ic\" width=\"50\" height=\"24\"><use xlink:href=\"https://www.jumia.com.ng/assets_he/images/i-global.62381cdf.svg#pay-max\"></use></svg></a></div></div></div><div class=\"vb row -i-ctr -j-ctr _foot _gy7 -hr -gy3 -mtl\"><div class=\"col3 -df -j-start\"></div><div class=\"col10 -df -j-ctr -fs0\"><a class=\"vent-link\" title=\"JumiaPay\" href=\"https://pay.jumia.com.ng/?utm_source=jumia&amp;utm_medium=mall&amp;utm_campaign=venturebar\" rel=\"nofollow noopener\" target=\"_blank\"><svg viewBox=\"0 0 60 24\" class=\"ic\" width=\"60\" height=\"24\"><use xlink:href=\"https://www.jumia.com.ng/assets_he/images/i-global.62381cdf.svg#venture-pay\"></use></svg></a><a class=\"vent-link\" title=\"Jumia Food\" href=\"https://food.jumia.com.ng/?utm_source=jumia&amp;utm_medium=mall&amp;utm_campaign=venturebar\" rel=\"nofollow noopener\" target=\"_blank\"><svg viewBox=\"0 0 66 24\" class=\"ic\" width=\"66\" height=\"24\"><use xlink:href=\"https://www.jumia.com.ng/assets_he/images/i-global.62381cdf.svg#venture-food\"></use></svg></a><a class=\"vent-link\" title=\"Jumia Party\" href=\"https://party.jumia.com.ng/?utm_source=jumia&amp;utm_medium=mall&amp;utm_campaign=venturebar\" rel=\"nofollow noopener\" target=\"_blank\"><svg viewBox=\"0 0 80 24\" class=\"ic\" width=\"80\" height=\"24\"><use xlink:href=\"https://www.jumia.com.ng/assets_he/images/i-global.62381cdf.svg#venture-jumia-party\"></use></svg></a><a class=\"vent-link\" title=\"Jumia Now\" href=\"https://food.jumia.com.ng/supermarket/n3ko/food-jaar\" rel=\"nofollow noopener\" target=\"_blank\"><svg viewBox=\"0 0 66 24\" class=\"ic\" width=\"66\" height=\"24\"><use xlink:href=\"https://www.jumia.com.ng/assets_he/images/i-global.62381cdf.svg#venture-jumia-now\"></use></svg></a></div><div class=\"col3 -df -j-end -wt -mla\"></div></div></footer><div id=\"pop\"></div></div><script>var dataLayer=[{\"countryCode\":\"NG\",\"language\":\"en\",\"platform\":\"desktop\",\"url\":\"/catalog/productratingsreviews/sku/LI287ST1FXHNCNAFAMZ/\",\"pageType\":\"product\",\"pageSubtype\":\"productRatings\",\"pageKey\":\"product_productRatings\",\"hasCPR\":0,\"pageTitle\":\"Reviews of Total 10 Sanitizer 200ml\",\"abTests\":\"SearchABTest:popularity_rerank_size_v2_100_personalized#MLP:A#SearchPerso:Y#Cart:S\",\"joinedPageType\":\"product_productRatings\"}];(function(w,d,s,l,i,f){function go(){w[l]=w[l]||[];w[l].push({\"gtm.start\":new Date().getTime(),event:\"gtm.js\"});f=d.getElementsByTagName(s)[0],j=d.createElement(s),dl=l!=\"dataLayer\"?\"&l=\"+l:\"\";j.async=true;j.src=\"//www.googletagmanager.com/gtm.js?id=\"+i+dl;j.addEventListener('load',function(){dataLayer.push({event:'pageView'});(function(){setTimeout((function(){window.dataLayer.push({event:\"pageViewLvl2\"}),setTimeout((function(){window.dataLayer.push({event:\"pageViewLvl3\"})}),500)}),500)})()});f.parentNode.insertBefore(j,f);}w.addEventListener(\"load\",go,false);})(window,document,'script','dataLayer','GTM-KS6DC65');</script><script>window.__STORE__={\"view\":\"Product/Reviews\",\"activeLanguage\":\"en\",\"countryCode\":\"NG\",\"languages\":{\"en\":{\"text\":\"English\",\"default\":true}},\"svgFallback\":false,\"tracking\":{\"gtm\":{\"key\":\"GTM-KS6DC65\",\"url\":\"/catalog/productratingsreviews/sku/LI287ST1FXHNCNAFAMZ/\",\"pageType\":\"product\",\"pageSubtype\":\"productRatings\",\"pageKey\":\"product_productRatings\",\"hasCPR\":0}},\"csrfToken\":\"01fbfa54987fff54dfd22f27c0a02596\",\"user\":{\"id\":\"\"},\"sprites\":{\"icons\":\"https://www.jumia.com.ng/assets_he/images/i-icons.e70b7734.svg\",\"global\":\"https://www.jumia.com.ng/assets_he/images/i-global.62381cdf.svg\",\"shop\":\"https://www.jumia.com.ng/assets_he/images/i-jumia.svg\"},\"liveChat\":{\"loadingText\":\"Live Chat is loading...\",\"botImg\":\"https://www.jumia.com.ng/assets_he/images/bot.d6ddece3.svg\"},\"htmlErrors\":{\"valueMissing\":\"Required field\",\"typeMismatch\":\"Invalid Information\",\"patternMismatch\":\"Invalid Information\"}};</script><script type=\"module\" crossorigin src=\"https://www.jumia.com.ng/assets_he/js/common.d6726208.js\"></script><script type=\"module\" crossorigin src=\"https://www.jumia.com.ng/assets_he/js/pages/default.028fb9a9.js\"></script><script nomodule src=\"https://www.jumia.com.ng/assets_he/js/common.es5.8c043f5f.js\"></script><script nomodule src=\"https://www.jumia.com.ng/assets_he/js/pages/default.es5.6bdfee56.js\"></script></body></html>\n"
     ]
    }
   ],
   "source": [
    "r = requests.get(url)\n",
    "print(r.text)"
   ]
  },
  {
   "cell_type": "code",
   "execution_count": 4,
   "metadata": {
    "scrolled": false
   },
   "outputs": [
    {
     "name": "stdout",
     "output_type": "stream",
     "text": [
      "Reviews of Total 10 Sanitizer 200ml\n"
     ]
    }
   ],
   "source": [
    "soup = BeautifulSoup(r.text, 'html.parser') \n",
    "print(soup.title.text)"
   ]
  },
  {
   "cell_type": "code",
   "execution_count": 5,
   "metadata": {
    "scrolled": true
   },
   "outputs": [
    {
     "name": "stdout",
     "output_type": "stream",
     "text": [
      "<p class=\"ctt\">This website uses cookies. For further information on how we use cookies you can read our Privacy and Cookie Notice. <a class=\"_more -fs12\" href=\"/sp-privacy/\" rel=\"noopener\" target=\"_blank\">Cookie and Privacy Policy</a></p>\n",
      "<p class=\"-fs16 -pts\">128 ratings</p>\n",
      "<p class=\"-gy5 -mw-34 -r\">(85)</p>\n",
      "<p class=\"-gy5 -mw-34 -r\">(35)</p>\n",
      "<p class=\"-gy5 -mw-34 -r\">(7)</p>\n",
      "<p class=\"-gy5 -mw-34 -r\">(1)</p>\n",
      "<p class=\"-gy5 -mw-34 -r\">(0)</p>\n",
      "<p class=\"-pvs\">Great Product!</p>\n",
      "<p class=\"-pvs\">Lovely product</p>\n",
      "<p class=\"-pvs\">Very nice fragrance</p>\n",
      "<p class=\"-pvs\">It's trusted</p>\n",
      "<p class=\"-pvs\">Product is Good</p>\n",
      "<p class=\"-pvs\">Normal sanitizer. Does its job</p>\n",
      "<p class=\"-pvs\">quite sticky, but it does the job</p>\n",
      "<p class=\"-pvs\">Fits nicely in hand bags etc and reasonably priced. \n",
      "Good product.</p>\n",
      "<p class=\"-pvs\">We like am well well.</p>\n",
      "<p class=\"-pvs\">its ok</p>\n"
     ]
    }
   ],
   "source": [
    "for link in soup.find_all('p'): \n",
    "    print(link)"
   ]
  },
  {
   "cell_type": "code",
   "execution_count": 6,
   "metadata": {},
   "outputs": [
    {
     "data": {
      "text/plain": [
       "2"
      ]
     },
     "execution_count": 6,
     "metadata": {},
     "output_type": "execute_result"
    }
   ],
   "source": [
    "soup.find_all(\"article\")\n",
    "len(list(soup.children))"
   ]
  },
  {
   "cell_type": "code",
   "execution_count": 7,
   "metadata": {},
   "outputs": [
    {
     "name": "stdout",
     "output_type": "stream",
     "text": [
      "<span class=\"-fsh0\"><svg class=\"ic\" height=\"24\" viewbox=\"0 0 24 24\" width=\"24\"><use xlink:href=\"https://www.jumia.com.ng/assets_he/images/i-icons.e70b7734.svg#menu\"></use></svg></span>\n",
      "<span class=\"text\">Supermarket</span>\n",
      "<span class=\"text\">Health &amp; Beauty</span>\n",
      "<span class=\"text\">Home &amp; Office</span>\n",
      "<span class=\"text\">Phones &amp; Tablets</span>\n",
      "<span class=\"text\">Computing</span>\n",
      "<span class=\"text\">Electronics</span>\n",
      "<span class=\"text\">Fashion</span>\n",
      "<span class=\"text\">Baby Products</span>\n",
      "<span class=\"text\">Gaming</span>\n",
      "<span class=\"text\">Sporting Goods</span>\n",
      "<span class=\"text\">Automobile</span>\n",
      "<span class=\"text\">Other categories</span>\n",
      "<span class=\"-fsh0 -mrs\"><svg class=\"ic\" height=\"24\" viewbox=\"0 0 24 24\" width=\"24\"><use xlink:href=\"https://www.jumia.com.ng/assets_he/images/i-icons.e70b7734.svg#person\"></use></svg></span>\n",
      "<span class=\"-fsh0 -mrs\"><svg class=\"ic\" height=\"24\" viewbox=\"0 0 24 24\" width=\"24\"><use xlink:href=\"https://www.jumia.com.ng/assets_he/images/i-icons.e70b7734.svg#help-outline\"></use></svg></span>\n",
      "<span>Live Help</span>\n",
      "<span class=\"-mrs -fs0\" id=\"ci\"><svg class=\"ic\" height=\"24\" viewbox=\"0 0 24 24\" width=\"24\"><use xlink:href=\"https://www.jumia.com.ng/assets_he/images/i-icons.e70b7734.svg#shopping-cart\"></use></svg></span>\n",
      "<span class=\"ic-bg -bg-wt\"><svg class=\"ic -maxs\" height=\"16\" viewbox=\"0 0 24 24\" width=\"16\"><use xlink:href=\"https://www.jumia.com.ng/assets_he/images/i-icons.e70b7734.svg#close\"></use></svg></span>\n",
      "<span class=\"-b\">4.6</span>\n",
      "<span class=\"-prs\">26-07-2021</span>\n",
      "<span>by Mary</span>\n",
      "<span class=\"-prs\">15-07-2021</span>\n",
      "<span>by Engr Vincent</span>\n",
      "<span class=\"-prs\">14-07-2021</span>\n",
      "<span>by UFUOMA</span>\n",
      "<span class=\"-prs\">14-07-2021</span>\n",
      "<span>by Emmanuel</span>\n",
      "<span class=\"-prs\">27-06-2021</span>\n",
      "<span>by Kingsley</span>\n",
      "<span class=\"-prs\">08-06-2021</span>\n",
      "<span>by Wale</span>\n",
      "<span class=\"-prs\">14-05-2021</span>\n",
      "<span>by OluwaTosin</span>\n",
      "<span class=\"-prs\">06-05-2021</span>\n",
      "<span>by Patricia</span>\n",
      "<span class=\"-prs\">05-05-2021</span>\n",
      "<span>by Benjoy</span>\n",
      "<span class=\"-prs\">27-04-2021</span>\n",
      "<span>by Onyeka</span>\n",
      "<span class=\"f-t -pbm\">LET US HELP YOU</span>\n",
      "<span class=\"f-t -pbm\">ABOUT JUMIA</span>\n",
      "<span class=\"f-t -pbm\">MAKE MONEY WITH JUMIA</span>\n",
      "<span class=\"f-t col16 -pbm\">JUMIA INTERNATIONAL</span>\n"
     ]
    }
   ],
   "source": [
    "for person in soup.find_all('span'): \n",
    "    print(person)"
   ]
  },
  {
   "cell_type": "code",
   "execution_count": 8,
   "metadata": {
    "scrolled": true
   },
   "outputs": [
    {
     "name": "stdout",
     "output_type": "stream",
     "text": [
      "<div class=\"ctt-w\"><p class=\"ctt\">This website uses cookies. For further information on how we use cookies you can read our Privacy and Cookie Notice. <a class=\"_more -fs12\" href=\"/sp-privacy/\" rel=\"noopener\" target=\"_blank\">Cookie and Privacy Policy</a></p><button aria-label=\"Close\" class=\"cls\"><span class=\"ic-bg -bg-wt\"><svg class=\"ic -maxs\" height=\"16\" viewbox=\"0 0 24 24\" width=\"16\"><use xlink:href=\"https://www.jumia.com.ng/assets_he/images/i-icons.e70b7734.svg#close\"></use></svg></span></button></div>\n"
     ]
    }
   ],
   "source": [
    "for string in soup.article: \n",
    "    print(repr(string))"
   ]
  },
  {
   "cell_type": "code",
   "execution_count": 9,
   "metadata": {
    "scrolled": true
   },
   "outputs": [
    {
     "data": {
      "text/plain": [
       "<span class=\"-fsh0\"><svg class=\"ic\" height=\"24\" viewbox=\"0 0 24 24\" width=\"24\"><use xlink:href=\"https://www.jumia.com.ng/assets_he/images/i-icons.e70b7734.svg#menu\"></use></svg></span>"
      ]
     },
     "execution_count": 9,
     "metadata": {},
     "output_type": "execute_result"
    }
   ],
   "source": [
    "customer_name = soup.find(\"span\") \n",
    "customer_name\n"
   ]
  },
  {
   "cell_type": "code",
   "execution_count": 10,
   "metadata": {},
   "outputs": [
    {
     "data": {
      "text/plain": [
       "[<p class=\"ctt\">This website uses cookies. For further information on how we use cookies you can read our Privacy and Cookie Notice. <a class=\"_more -fs12\" href=\"/sp-privacy/\" rel=\"noopener\" target=\"_blank\">Cookie and Privacy Policy</a></p>,\n",
       " <p class=\"-fs16 -pts\">128 ratings</p>,\n",
       " <p class=\"-gy5 -mw-34 -r\">(85)</p>,\n",
       " <p class=\"-gy5 -mw-34 -r\">(35)</p>,\n",
       " <p class=\"-gy5 -mw-34 -r\">(7)</p>,\n",
       " <p class=\"-gy5 -mw-34 -r\">(1)</p>,\n",
       " <p class=\"-gy5 -mw-34 -r\">(0)</p>,\n",
       " <p class=\"-pvs\">Great Product!</p>,\n",
       " <p class=\"-pvs\">Lovely product</p>,\n",
       " <p class=\"-pvs\">Very nice fragrance</p>,\n",
       " <p class=\"-pvs\">It's trusted</p>,\n",
       " <p class=\"-pvs\">Product is Good</p>,\n",
       " <p class=\"-pvs\">Normal sanitizer. Does its job</p>,\n",
       " <p class=\"-pvs\">quite sticky, but it does the job</p>,\n",
       " <p class=\"-pvs\">Fits nicely in hand bags etc and reasonably priced. \n",
       " Good product.</p>,\n",
       " <p class=\"-pvs\">We like am well well.</p>,\n",
       " <p class=\"-pvs\">its ok</p>]"
      ]
     },
     "execution_count": 10,
     "metadata": {},
     "output_type": "execute_result"
    }
   ],
   "source": [
    "import re \n",
    "soup.find_all(re.compile('^p'))"
   ]
  },
  {
   "cell_type": "code",
   "execution_count": 11,
   "metadata": {},
   "outputs": [
    {
     "name": "stdout",
     "output_type": "stream",
     "text": [
      "\n",
      "Supermarket\n",
      "Health & Beauty\n",
      "Home & Office\n",
      "Phones & Tablets\n",
      "Computing\n",
      "Electronics\n",
      "Fashion\n",
      "Baby Products\n",
      "Gaming\n",
      "Sporting Goods\n",
      "Automobile\n",
      "Other categories\n",
      "\n",
      "\n",
      "Live Help\n",
      "\n",
      "\n",
      "4.6\n",
      "26-07-2021\n",
      "by Mary\n",
      "15-07-2021\n",
      "by Engr Vincent\n",
      "14-07-2021\n",
      "by UFUOMA\n",
      "14-07-2021\n",
      "by Emmanuel\n",
      "27-06-2021\n",
      "by Kingsley\n",
      "08-06-2021\n",
      "by Wale\n",
      "14-05-2021\n",
      "by OluwaTosin\n",
      "06-05-2021\n",
      "by Patricia\n",
      "05-05-2021\n",
      "by Benjoy\n",
      "27-04-2021\n",
      "by Onyeka\n",
      "LET US HELP YOU\n",
      "ABOUT JUMIA\n",
      "MAKE MONEY WITH JUMIA\n",
      "JUMIA INTERNATIONAL\n"
     ]
    }
   ],
   "source": [
    "for heading in soup.find_all('span'): \n",
    "    print(heading.text)\n"
   ]
  },
  {
   "cell_type": "code",
   "execution_count": 12,
   "metadata": {},
   "outputs": [
    {
     "data": {
      "text/plain": [
       "[]"
      ]
     },
     "execution_count": 12,
     "metadata": {},
     "output_type": "execute_result"
    }
   ],
   "source": [
    "soup.find_all(string = 'by ')"
   ]
  },
  {
   "cell_type": "code",
   "execution_count": 13,
   "metadata": {
    "scrolled": true
   },
   "outputs": [
    {
     "data": {
      "text/plain": [
       "[<p class=\"-pvs\">Great Product!</p>,\n",
       " <p class=\"-pvs\">Lovely product</p>,\n",
       " <p class=\"-pvs\">Very nice fragrance</p>,\n",
       " <p class=\"-pvs\">It's trusted</p>,\n",
       " <p class=\"-pvs\">Product is Good</p>,\n",
       " <p class=\"-pvs\">Normal sanitizer. Does its job</p>,\n",
       " <p class=\"-pvs\">quite sticky, but it does the job</p>,\n",
       " <p class=\"-pvs\">Fits nicely in hand bags etc and reasonably priced. \n",
       " Good product.</p>,\n",
       " <p class=\"-pvs\">We like am well well.</p>,\n",
       " <p class=\"-pvs\">its ok</p>]"
      ]
     },
     "execution_count": 13,
     "metadata": {},
     "output_type": "execute_result"
    }
   ],
   "source": [
    "simple_soup = soup.find_all('p',{'class':\"-pvs\"}) \n",
    "simple_soup"
   ]
  },
  {
   "cell_type": "code",
   "execution_count": 14,
   "metadata": {},
   "outputs": [
    {
     "data": {
      "text/plain": [
       "[]"
      ]
     },
     "execution_count": 14,
     "metadata": {},
     "output_type": "execute_result"
    }
   ],
   "source": [
    "article_soup = soup.find_all('span', {'class':\"-pvs\"}) \n",
    "article_soup"
   ]
  },
  {
   "cell_type": "code",
   "execution_count": 15,
   "metadata": {},
   "outputs": [
    {
     "name": "stdout",
     "output_type": "stream",
     "text": [
      "\n"
     ]
    }
   ],
   "source": [
    "from bs4 import BeautifulSoup, SoupStrainer \n",
    "\n",
    "product = SoupStrainer('div',{'id': 'Product Reviews'})\n",
    "soups = BeautifulSoup(\"html.parser\",parse_only=product)\n",
    "print(soups)"
   ]
  },
  {
   "cell_type": "code",
   "execution_count": 16,
   "metadata": {},
   "outputs": [
    {
     "data": {
      "text/plain": [
       "[<div class=\"stars _m _al -mvs\">5 out of 5<div class=\"in\" style=\"width:100%\"></div></div>,\n",
       " <div class=\"stars _m _al -mvs\">5 out of 5<div class=\"in\" style=\"width:100%\"></div></div>,\n",
       " <div class=\"stars _m _al -mvs\">5 out of 5<div class=\"in\" style=\"width:100%\"></div></div>,\n",
       " <div class=\"stars _m _al -mvs\">5 out of 5<div class=\"in\" style=\"width:100%\"></div></div>,\n",
       " <div class=\"stars _m _al -mvs\">5 out of 5<div class=\"in\" style=\"width:100%\"></div></div>,\n",
       " <div class=\"stars _m _al -mvs\">4 out of 5<div class=\"in\" style=\"width:80%\"></div></div>,\n",
       " <div class=\"stars _m _al -mvs\">5 out of 5<div class=\"in\" style=\"width:100%\"></div></div>,\n",
       " <div class=\"stars _m _al -mvs\">4 out of 5<div class=\"in\" style=\"width:80%\"></div></div>,\n",
       " <div class=\"stars _m _al -mvs\">5 out of 5<div class=\"in\" style=\"width:100%\"></div></div>,\n",
       " <div class=\"stars _m _al -mvs\">5 out of 5<div class=\"in\" style=\"width:100%\"></div></div>]"
      ]
     },
     "execution_count": 16,
     "metadata": {},
     "output_type": "execute_result"
    }
   ],
   "source": [
    "ratings = soup.find_all('div', {'class':\"stars _m _al -mvs\"})\n",
    "ratings"
   ]
  },
  {
   "cell_type": "code",
   "execution_count": 17,
   "metadata": {},
   "outputs": [
    {
     "name": "stdout",
     "output_type": "stream",
     "text": [
      "<title>Reviews of Total 10 Sanitizer 200ml</title>\n"
     ]
    }
   ],
   "source": [
    "title = soup.find('title') \n",
    "print(title)"
   ]
  },
  {
   "cell_type": "code",
   "execution_count": 18,
   "metadata": {},
   "outputs": [
    {
     "name": "stdout",
     "output_type": "stream",
     "text": [
      "<title>Reviews of Total 10 Sanitizer 200ml</title>\n"
     ]
    }
   ],
   "source": [
    "import re \n",
    "product_reviews = soup.find_all('div',{'class':\"cola -phm -df -d-co\"}) \n",
    "product_reviews \n",
    "for items in product_reviews: \n",
    "    title = soup.find('title')  \n",
    "    comments = items.find_all('p',{'class':\"-pvs\"})\n",
    "    ratings = items.find_all('div', {'class':\"stars _m _al -mvs\"}) \n",
    "    \n",
    "    print(title)"
   ]
  },
  {
   "cell_type": "code",
   "execution_count": 19,
   "metadata": {},
   "outputs": [
    {
     "name": "stdout",
     "output_type": "stream",
     "text": [
      "{'title': <title>Reviews of Total 10 Sanitizer 200ml</title>, 'comments': [<p class=\"-pvs\">Great Product!</p>, <p class=\"-pvs\">Lovely product</p>, <p class=\"-pvs\">Very nice fragrance</p>, <p class=\"-pvs\">It's trusted</p>, <p class=\"-pvs\">Product is Good</p>, <p class=\"-pvs\">Normal sanitizer. Does its job</p>, <p class=\"-pvs\">quite sticky, but it does the job</p>, <p class=\"-pvs\">Fits nicely in hand bags etc and reasonably priced. \n",
      "Good product.</p>, <p class=\"-pvs\">We like am well well.</p>, <p class=\"-pvs\">its ok</p>], 'ratings': [<div class=\"stars _m _al -mvs\">5 out of 5<div class=\"in\" style=\"width:100%\"></div></div>, <div class=\"stars _m _al -mvs\">5 out of 5<div class=\"in\" style=\"width:100%\"></div></div>, <div class=\"stars _m _al -mvs\">5 out of 5<div class=\"in\" style=\"width:100%\"></div></div>, <div class=\"stars _m _al -mvs\">5 out of 5<div class=\"in\" style=\"width:100%\"></div></div>, <div class=\"stars _m _al -mvs\">5 out of 5<div class=\"in\" style=\"width:100%\"></div></div>, <div class=\"stars _m _al -mvs\">4 out of 5<div class=\"in\" style=\"width:80%\"></div></div>, <div class=\"stars _m _al -mvs\">5 out of 5<div class=\"in\" style=\"width:100%\"></div></div>, <div class=\"stars _m _al -mvs\">4 out of 5<div class=\"in\" style=\"width:80%\"></div></div>, <div class=\"stars _m _al -mvs\">5 out of 5<div class=\"in\" style=\"width:100%\"></div></div>, <div class=\"stars _m _al -mvs\">5 out of 5<div class=\"in\" style=\"width:100%\"></div></div>]}\n"
     ]
    }
   ],
   "source": [
    "import html5lib\n",
    "import pandas as pd\n",
    "product_reviews = soup.find_all('div',{'class':\"cola -phm -df -d-co\"}) \n",
    "product_reviews \n",
    "for items in product_reviews: \n",
    "    reviews = {\n",
    "    'title':soup.find('title'), \n",
    "    'comments':items.find_all('p',{'class':\"-pvs\"}),\n",
    "    'ratings':items.find_all('div', {'class':\"stars _m _al -mvs\"}),  \n",
    "    } \n",
    "    print(reviews)"
   ]
  },
  {
   "cell_type": "code",
   "execution_count": null,
   "metadata": {},
   "outputs": [],
   "source": []
  },
  {
   "cell_type": "code",
   "execution_count": 20,
   "metadata": {},
   "outputs": [],
   "source": [
    "for x in range(1,30):\n",
    "    url = 'https://www.jumia.com.ng/catalog/productratingsreviews/sku/LI287ST1FXHNCNAFAMZ/?page={x}'\n",
    "    def get_soup(url):\n",
    "        r = requests.get(url)\n",
    "        soup = BeautifulSoup(r.text, 'html parser')\n",
    "        return soup \n",
    "        locator(soup) "
   ]
  },
  {
   "cell_type": "code",
   "execution_count": 21,
   "metadata": {
    "scrolled": true
   },
   "outputs": [],
   "source": [
    "def locator(span, attrs={}):\n",
    "    vals = soup.find_all(span, attrs)\n",
    "    return [i.text for i in vals]\n",
    "\n",
    "\n",
    "new_title = [a for a in locator('title')]\n",
    "comments = [a for a in locator('p', {'class':\"-pvs\"})]\n",
    "ratings = [a for a in locator('div', {'class':'stars _m _al -mvs'})]\n"
   ]
  },
  {
   "cell_type": "code",
   "execution_count": 22,
   "metadata": {
    "scrolled": true
   },
   "outputs": [
    {
     "data": {
      "text/plain": [
       "['Great Product!',\n",
       " 'Lovely product',\n",
       " 'Very nice fragrance',\n",
       " \"It's trusted\",\n",
       " 'Product is Good',\n",
       " 'Normal sanitizer. Does its job',\n",
       " 'quite sticky, but it does the job',\n",
       " 'Fits nicely in hand bags etc and reasonably priced. \\nGood product.',\n",
       " 'We like am well well.',\n",
       " 'its ok']"
      ]
     },
     "execution_count": 22,
     "metadata": {},
     "output_type": "execute_result"
    }
   ],
   "source": [
    "comments"
   ]
  },
  {
   "cell_type": "code",
   "execution_count": 23,
   "metadata": {},
   "outputs": [
    {
     "data": {
      "text/plain": [
       "['5 out of 5',\n",
       " '5 out of 5',\n",
       " '5 out of 5',\n",
       " '5 out of 5',\n",
       " '5 out of 5',\n",
       " '4 out of 5',\n",
       " '5 out of 5',\n",
       " '4 out of 5',\n",
       " '5 out of 5',\n",
       " '5 out of 5']"
      ]
     },
     "execution_count": 23,
     "metadata": {},
     "output_type": "execute_result"
    }
   ],
   "source": [
    "ratings"
   ]
  },
  {
   "cell_type": "code",
   "execution_count": 24,
   "metadata": {},
   "outputs": [
    {
     "data": {
      "text/plain": [
       "{'title': <title>Reviews of Total 10 Sanitizer 200ml</title>,\n",
       " 'comments': [<p class=\"-pvs\">Great Product!</p>,\n",
       "  <p class=\"-pvs\">Lovely product</p>,\n",
       "  <p class=\"-pvs\">Very nice fragrance</p>,\n",
       "  <p class=\"-pvs\">It's trusted</p>,\n",
       "  <p class=\"-pvs\">Product is Good</p>,\n",
       "  <p class=\"-pvs\">Normal sanitizer. Does its job</p>,\n",
       "  <p class=\"-pvs\">quite sticky, but it does the job</p>,\n",
       "  <p class=\"-pvs\">Fits nicely in hand bags etc and reasonably priced. \n",
       "  Good product.</p>,\n",
       "  <p class=\"-pvs\">We like am well well.</p>,\n",
       "  <p class=\"-pvs\">its ok</p>],\n",
       " 'ratings': [<div class=\"stars _m _al -mvs\">5 out of 5<div class=\"in\" style=\"width:100%\"></div></div>,\n",
       "  <div class=\"stars _m _al -mvs\">5 out of 5<div class=\"in\" style=\"width:100%\"></div></div>,\n",
       "  <div class=\"stars _m _al -mvs\">5 out of 5<div class=\"in\" style=\"width:100%\"></div></div>,\n",
       "  <div class=\"stars _m _al -mvs\">5 out of 5<div class=\"in\" style=\"width:100%\"></div></div>,\n",
       "  <div class=\"stars _m _al -mvs\">5 out of 5<div class=\"in\" style=\"width:100%\"></div></div>,\n",
       "  <div class=\"stars _m _al -mvs\">4 out of 5<div class=\"in\" style=\"width:80%\"></div></div>,\n",
       "  <div class=\"stars _m _al -mvs\">5 out of 5<div class=\"in\" style=\"width:100%\"></div></div>,\n",
       "  <div class=\"stars _m _al -mvs\">4 out of 5<div class=\"in\" style=\"width:80%\"></div></div>,\n",
       "  <div class=\"stars _m _al -mvs\">5 out of 5<div class=\"in\" style=\"width:100%\"></div></div>,\n",
       "  <div class=\"stars _m _al -mvs\">5 out of 5<div class=\"in\" style=\"width:100%\"></div></div>]}"
      ]
     },
     "execution_count": 24,
     "metadata": {},
     "output_type": "execute_result"
    }
   ],
   "source": [
    "reviews"
   ]
  },
  {
   "cell_type": "code",
   "execution_count": 25,
   "metadata": {},
   "outputs": [
    {
     "data": {
      "text/html": [
       "<div>\n",
       "<style scoped>\n",
       "    .dataframe tbody tr th:only-of-type {\n",
       "        vertical-align: middle;\n",
       "    }\n",
       "\n",
       "    .dataframe tbody tr th {\n",
       "        vertical-align: top;\n",
       "    }\n",
       "\n",
       "    .dataframe thead th {\n",
       "        text-align: right;\n",
       "    }\n",
       "</style>\n",
       "<table border=\"1\" class=\"dataframe\">\n",
       "  <thead>\n",
       "    <tr style=\"text-align: right;\">\n",
       "      <th></th>\n",
       "      <th>comments</th>\n",
       "      <th>rating</th>\n",
       "    </tr>\n",
       "  </thead>\n",
       "  <tbody>\n",
       "    <tr>\n",
       "      <th>0</th>\n",
       "      <td>Great Product!</td>\n",
       "      <td>5 out of 5</td>\n",
       "    </tr>\n",
       "    <tr>\n",
       "      <th>1</th>\n",
       "      <td>Lovely product</td>\n",
       "      <td>5 out of 5</td>\n",
       "    </tr>\n",
       "    <tr>\n",
       "      <th>2</th>\n",
       "      <td>Very nice fragrance</td>\n",
       "      <td>5 out of 5</td>\n",
       "    </tr>\n",
       "    <tr>\n",
       "      <th>3</th>\n",
       "      <td>It's trusted</td>\n",
       "      <td>5 out of 5</td>\n",
       "    </tr>\n",
       "    <tr>\n",
       "      <th>4</th>\n",
       "      <td>Product is Good</td>\n",
       "      <td>5 out of 5</td>\n",
       "    </tr>\n",
       "    <tr>\n",
       "      <th>5</th>\n",
       "      <td>Normal sanitizer. Does its job</td>\n",
       "      <td>4 out of 5</td>\n",
       "    </tr>\n",
       "    <tr>\n",
       "      <th>6</th>\n",
       "      <td>quite sticky, but it does the job</td>\n",
       "      <td>5 out of 5</td>\n",
       "    </tr>\n",
       "    <tr>\n",
       "      <th>7</th>\n",
       "      <td>Fits nicely in hand bags etc and reasonably pr...</td>\n",
       "      <td>4 out of 5</td>\n",
       "    </tr>\n",
       "    <tr>\n",
       "      <th>8</th>\n",
       "      <td>We like am well well.</td>\n",
       "      <td>5 out of 5</td>\n",
       "    </tr>\n",
       "    <tr>\n",
       "      <th>9</th>\n",
       "      <td>its ok</td>\n",
       "      <td>5 out of 5</td>\n",
       "    </tr>\n",
       "  </tbody>\n",
       "</table>\n",
       "</div>"
      ],
      "text/plain": [
       "                                            comments      rating\n",
       "0                                     Great Product!  5 out of 5\n",
       "1                                     Lovely product  5 out of 5\n",
       "2                                Very nice fragrance  5 out of 5\n",
       "3                                       It's trusted  5 out of 5\n",
       "4                                    Product is Good  5 out of 5\n",
       "5                     Normal sanitizer. Does its job  4 out of 5\n",
       "6                  quite sticky, but it does the job  5 out of 5\n",
       "7  Fits nicely in hand bags etc and reasonably pr...  4 out of 5\n",
       "8                              We like am well well.  5 out of 5\n",
       "9                                             its ok  5 out of 5"
      ]
     },
     "execution_count": 25,
     "metadata": {},
     "output_type": "execute_result"
    }
   ],
   "source": [
    "data = pd.DataFrame(zip(comments, ratings), \n",
    "                    columns = [ 'comments', 'rating']) \n",
    "data"
   ]
  },
  {
   "cell_type": "code",
   "execution_count": 26,
   "metadata": {},
   "outputs": [],
   "source": [
    "data.to_csv('Reviews')  "
   ]
  },
  {
   "cell_type": "code",
   "execution_count": 27,
   "metadata": {},
   "outputs": [],
   "source": [
    "data.to_csv(r'C:\\Users\\eking\\Documents\\my B.sc Project\\my datasets\\Reviews.csv', index = False)"
   ]
  }
 ],
 "metadata": {
  "kernelspec": {
   "display_name": "Python 3",
   "language": "python",
   "name": "python3"
  },
  "language_info": {
   "codemirror_mode": {
    "name": "ipython",
    "version": 3
   },
   "file_extension": ".py",
   "mimetype": "text/x-python",
   "name": "python",
   "nbconvert_exporter": "python",
   "pygments_lexer": "ipython3",
   "version": "3.8.5"
  }
 },
 "nbformat": 4,
 "nbformat_minor": 4
}
