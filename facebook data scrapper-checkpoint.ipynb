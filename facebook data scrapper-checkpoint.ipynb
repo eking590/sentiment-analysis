{
 "cells": [
  {
   "cell_type": "code",
   "execution_count": 9,
   "metadata": {},
   "outputs": [],
   "source": [
    "import requests \n",
    "import re \n",
    "import json \n",
    "import time \n",
    "import logging \n",
    "import pandas \n",
    "from collections import OrderedDict \n",
    "from bs4 import BeautifulSoup"
   ]
  },
  {
   "cell_type": "code",
   "execution_count": 10,
   "metadata": {},
   "outputs": [],
   "source": [
    "def get_bs(session, url): \n",
    "    \"\"\"Makes a GET requests using the given session object and returns a beautifulsoup object.\"\"\"\n",
    "    r = None \n",
    "    while True: \n",
    "        r = session.get(url)\n",
    "        if r.ok: \n",
    "            break \n",
    "    return BeautifulSoup(r.text, 'lxml')"
   ]
  },
  {
   "cell_type": "code",
   "execution_count": 11,
   "metadata": {},
   "outputs": [],
   "source": [
    "def make_login(session, base_url, credentials): \n",
    "    \"\"\"Returns a Session object logged in with credentials\"\"\"\n",
    "    login_form_url = '/login/device-based/regular/login/?refsrc=https%3A'\\\n",
    "        '%2F%2Fmobile.facebook.com%2Flogin%2Fdevice-based%2Fedit-user%2F&lwv=100'\n",
    "    params = {'email': credentials['email'], 'pass': credentials['pass']} \n",
    "    \n",
    "    while True: \n",
    "        time.sleep(3)\n",
    "        logged_request = session.post(base_url+login_form_url, data=params)\n",
    "        \n",
    "        if logged_request.ok: \n",
    "            logging.info('[*] Logged in.') \n",
    "            break \n",
    "        \n",
    "    "
   ]
  },
  {
   "cell_type": "code",
   "execution_count": null,
   "metadata": {},
   "outputs": [],
   "source": [
    "def crawl_profile(session, base_url, profile_url, post_limit): \n",
    "    \"\"\"Goes to profile URL, crawls it and extracts posts URLs.\"\"\"\n",
    "    profile_bs = get_bs(session, profile_url)\n",
    "    n_scraped_posts = 0 \n",
    "    scraped_posts = list()\n",
    "    post_id = None \n",
    "    \n",
    "    while n_scraped_posts < post_limit: \n",
    "        try: "
   ]
  }
 ],
 "metadata": {
  "kernelspec": {
   "display_name": "Python 3",
   "language": "python",
   "name": "python3"
  },
  "language_info": {
   "codemirror_mode": {
    "name": "ipython",
    "version": 3
   },
   "file_extension": ".py",
   "mimetype": "text/x-python",
   "name": "python",
   "nbconvert_exporter": "python",
   "pygments_lexer": "ipython3",
   "version": "3.8.5"
  }
 },
 "nbformat": 4,
 "nbformat_minor": 4
}
