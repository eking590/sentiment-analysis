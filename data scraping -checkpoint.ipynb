{
 "cells": [
  {
   "cell_type": "code",
   "execution_count": 1,
   "metadata": {},
   "outputs": [],
   "source": [
    "import csv \n",
    "import requests \n",
    "from bs4 import BeautifulSoup \n",
    "from selenium import webdriver\n",
    "from selenium.webdriver.common.keys import Keys\n",
    "import selenium \n",
    "import time \n",
    "driver = webdriver.Chrome(\"C:\\\\Users\\\\eking\\\\anaconda3\\\\pkgs\\\\selenium-3.141.0-py38hc431981_1000\\\\Lib\\\\site-packages\\\\selenium\\\\webdriver\\\\chromedriver_win32\\chromedriver.exe\")\n",
    "url = \"https://www.jumia.com.ng\"\n",
    "driver.get(url)\n"
   ]
  },
  {
   "cell_type": "code",
   "execution_count": null,
   "metadata": {},
   "outputs": [],
   "source": [
    "def get_url(search_term): \n",
    "    \"\"\"Generate a url from search term\"\"\"\n",
    "    template = 'https://www.jumia.com.ng/catalog/?q=()' \n",
    "    search_term = search_term.replace(' ','+') \n",
    "    return template.format(search_term)"
   ]
  }
 ],
 "metadata": {
  "kernelspec": {
   "display_name": "Python 3",
   "language": "python",
   "name": "python3"
  },
  "language_info": {
   "codemirror_mode": {
    "name": "ipython",
    "version": 3
   },
   "file_extension": ".py",
   "mimetype": "text/x-python",
   "name": "python",
   "nbconvert_exporter": "python",
   "pygments_lexer": "ipython3",
   "version": "3.8.5"
  }
 },
 "nbformat": 4,
 "nbformat_minor": 4
}
